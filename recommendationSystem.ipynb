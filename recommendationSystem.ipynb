{
  "cells": [
    {
      "cell_type": "code",
      "execution_count": null,
      "metadata": {
        "id": "H1Dn9yFRPJPW"
      },
      "outputs": [],
      "source": [
        "import pandas as pd\n",
        "import numpy as np\n",
        "import matplotlib.pyplot as plt\n",
        "import seaborn as sns\n",
        "import gzip\n",
        "\n",
        "from sklearn.metrics.pairwise import cosine_similarity\n",
        "from sklearn.feature_extraction.text import TfidfVectorizer\n",
        "\n",
        "\n",
        "import numpy as np\n",
        "import os\n",
        "from scipy.sparse import coo_matrix"
      ]
    },
    {
      "cell_type": "code",
      "execution_count": null,
      "metadata": {
        "colab": {
          "base_uri": "https://localhost:8080/"
        },
        "id": "YJjtLryVTejC",
        "outputId": "3b8c5933-5f45-4089-c514-95e9bb6378fc"
      },
      "outputs": [],
      "source": [
        "# Open the compressed file using gzip\n",
        "with gzip.open('marketing_sample_for_walmart_com-walmart_com_product_review__20200701_20201231__5k_data.tsv', 'rt', encoding='utf-8') as f:\n",
        "    train_data = pd.read_csv(f, sep='\\t')\n",
        "\n",
        "# Check the columns\n",
        "print(train_data.columns)\n",
        "\n"
      ]
    },
    {
      "cell_type": "code",
      "execution_count": null,
      "metadata": {
        "colab": {
          "base_uri": "https://localhost:8080/"
        },
        "id": "NLntgxQwdhXC",
        "outputId": "6a242e2c-9bf8-4d64-8979-ffc29f9e8be2"
      },
      "outputs": [],
      "source": [
        "print(train_data.columns)"
      ]
    },
    {
      "cell_type": "code",
      "execution_count": null,
      "metadata": {
        "colab": {
          "base_uri": "https://localhost:8080/",
          "height": 387
        },
        "id": "oOeu7OqTeZbX",
        "outputId": "6cfa5673-69c4-40df-e4ca-99527849bb34"
      },
      "outputs": [],
      "source": [
        "train_data.head(2)"
      ]
    },
    {
      "cell_type": "code",
      "execution_count": null,
      "metadata": {
        "colab": {
          "base_uri": "https://localhost:8080/",
          "height": 458
        },
        "id": "QyXLx2NjevLO",
        "outputId": "b87b7f75-727b-491c-c93b-c1b3cc4a120b"
      },
      "outputs": [],
      "source": [
        "train_data['Product Tags']"
      ]
    },
    {
      "cell_type": "code",
      "execution_count": null,
      "metadata": {
        "colab": {
          "base_uri": "https://localhost:8080/"
        },
        "id": "AIRRJs9Tf4jY",
        "outputId": "fff07fc6-e1ef-40f9-997e-9c319b4585f2"
      },
      "outputs": [],
      "source": [
        "train_data.shape"
      ]
    },
    {
      "cell_type": "code",
      "execution_count": null,
      "metadata": {
        "colab": {
          "base_uri": "https://localhost:8080/",
          "height": 1000
        },
        "id": "fmRXlDC_gqJc",
        "outputId": "d77a3f7f-469d-4407-b776-c398fecb6924"
      },
      "outputs": [],
      "source": [
        "train_data.isnull().sum()"
      ]
    },
    {
      "cell_type": "code",
      "execution_count": null,
      "metadata": {
        "colab": {
          "base_uri": "https://localhost:8080/",
          "height": 476
        },
        "id": "k0CHLBHlg3LM",
        "outputId": "326a14e3-33d8-4543-e1e6-add886f16b41"
      },
      "outputs": [],
      "source": [
        "train_data = train_data[['Uniq Id','Product Id', 'Product Rating', 'Product Reviews Count', 'Product Category', 'Product Brand', 'Product Name', 'Product Image Url', 'Product Description', 'Product Tags']]\n",
        "train_data.head(3)"
      ]
    },
    {
      "cell_type": "code",
      "execution_count": null,
      "metadata": {
        "colab": {
          "base_uri": "https://localhost:8080/",
          "height": 398
        },
        "id": "iINiXElChWwR",
        "outputId": "97a40daf-3b09-4f82-93d8-7ae7d7aac5f0"
      },
      "outputs": [],
      "source": [
        "train_data.isnull().sum()"
      ]
    },
    {
      "cell_type": "code",
      "execution_count": null,
      "metadata": {
        "colab": {
          "base_uri": "https://localhost:8080/"
        },
        "id": "9tRj34HRhii6",
        "outputId": "11ae9ebd-b242-4a3a-e215-92e13782401a"
      },
      "outputs": [],
      "source": [
        "train_data.shape"
      ]
    },
    {
      "cell_type": "code",
      "execution_count": 14,
      "metadata": {
        "id": "w_Naw7Njh0zc"
      },
      "outputs": [],
      "source": [
        "# Fill missing values in 'Product Rating' with a default value (e.g., 0)\n",
        "train_data['Product Rating'].fillna(0, inplace=True)\n",
        "# Fill missing values in 'Product Reviews Count' with a default value (e.g., 0)\n",
        "train_data['Product Reviews Count'].fillna(0, inplace=True)\n",
        "# Fill missing values in 'Product Category' with a default value (e.g., 'Unknown')\n",
        "train_data['Product Category'].fillna('', inplace=True)\n",
        "# Fill missing values in 'Product Brand' with a default value (e.g., 'Unknown')\n",
        "train_data['Product Brand'].fillna('', inplace=True)\n",
        "# Fill missing values in 'Product Description' with an empty string\n",
        "train_data['Product Description'].fillna('',inplace=True)"
      ]
    },
    {
      "cell_type": "code",
      "execution_count": null,
      "metadata": {
        "colab": {
          "base_uri": "https://localhost:8080/",
          "height": 398
        },
        "id": "qVvz3WO4iWZE",
        "outputId": "9dea9e3a-18b9-4bee-d9ff-57ede8191d9d"
      },
      "outputs": [],
      "source": [
        "train_data.isnull().sum()"
      ]
    },
    {
      "cell_type": "code",
      "execution_count": null,
      "metadata": {
        "colab": {
          "base_uri": "https://localhost:8080/"
        },
        "id": "Dj2AK3dJiuxM",
        "outputId": "f152a0ef-c157-4155-fbca-70c649af7851"
      },
      "outputs": [],
      "source": [
        "train_data.duplicated().sum()"
      ]
    },
    {
      "cell_type": "code",
      "execution_count": null,
      "metadata": {
        "colab": {
          "base_uri": "https://localhost:8080/"
        },
        "id": "e5zdH-wpjjF-",
        "outputId": "77bf3075-cf82-438a-d68d-e2a58c9471ae"
      },
      "outputs": [],
      "source": [
        "train_data.columns"
      ]
    },
    {
      "cell_type": "code",
      "execution_count": 18,
      "metadata": {
        "id": "MSqCoVRDjtP4"
      },
      "outputs": [],
      "source": [
        "# make columns shorter\n",
        "# Define the mapping of current column names to shorter names\n",
        "column_name_mapping = {\n",
        "    'Uniq Id': 'ID',\n",
        "    'Product Id': 'ProdID',\n",
        "    'Product Rating': 'Rating',\n",
        "    'Product Reviews Count': 'ReviewCount',\n",
        "    'Product Category': 'Category',\n",
        "    'Product Brand': 'Brand',\n",
        "    'Product Name': 'Name',\n",
        "    'Product Image Url': 'ImageURL',\n",
        "    'Product Description': 'Description',\n",
        "    'Product Tags': 'Tags',\n",
        "    'Product Contents': 'Contents'\n",
        "}\n",
        "# Rename the columns using the mapping\n",
        "train_data.rename(columns=column_name_mapping,inplace=True)"
      ]
    },
    {
      "cell_type": "code",
      "execution_count": null,
      "metadata": {
        "colab": {
          "base_uri": "https://localhost:8080/",
          "height": 1000
        },
        "id": "CnK1On1jj5BY",
        "outputId": "a2f4da3e-8258-42e0-a6a7-ed6a0ed83d2b"
      },
      "outputs": [],
      "source": [
        "train_data"
      ]
    },
    {
      "cell_type": "code",
      "execution_count": 20,
      "metadata": {
        "id": "scJvPP9DkhD9"
      },
      "outputs": [],
      "source": [
        "train_data['ID'] = train_data['ID'].str.extract(r'(\\d+)').astype(float)\n"
      ]
    },
    {
      "cell_type": "code",
      "execution_count": 20,
      "metadata": {
        "id": "82LKvLmcmJb9"
      },
      "outputs": [],
      "source": []
    },
    {
      "cell_type": "code",
      "execution_count": 21,
      "metadata": {
        "id": "3IhzNBecmODf"
      },
      "outputs": [],
      "source": [
        "train_data['ProdID'] = train_data['ProdID'].str.extract(r'(\\d+)').astype(float)"
      ]
    },
    {
      "cell_type": "code",
      "execution_count": null,
      "metadata": {
        "colab": {
          "base_uri": "https://localhost:8080/",
          "height": 1000
        },
        "id": "hmF_oBzRm9Zf",
        "outputId": "a36b9fb4-a310-4142-ddfe-98e729164048"
      },
      "outputs": [],
      "source": [
        "train_data"
      ]
    },
    {
      "cell_type": "code",
      "execution_count": 22,
      "metadata": {
        "id": "NexrpTr4nDHx"
      },
      "outputs": [],
      "source": []
    },
    {
      "cell_type": "code",
      "execution_count": null,
      "metadata": {
        "colab": {
          "base_uri": "https://localhost:8080/"
        },
        "id": "2eGi0vErnX-k",
        "outputId": "67a5e9f2-4153-46ba-d05b-2ed085cf1f4f"
      },
      "outputs": [],
      "source": [
        "\n",
        "# Basic statistics\n",
        "num_users = train_data['ID'].nunique()\n",
        "num_items = train_data['ProdID'].nunique()\n",
        "num_ratings = train_data['Rating'].nunique()\n",
        "print(f\"Number of unique users: {num_users}\")\n",
        "print(f\"Number of unique items: {num_items}\")\n",
        "print(f\"Number of unique ratings:{num_ratings}\")"
      ]
    },
    {
      "cell_type": "code",
      "execution_count": null,
      "metadata": {
        "colab": {
          "base_uri": "https://localhost:8080/",
          "height": 550
        },
        "id": "I2Z96X31nk67",
        "outputId": "13cd4d05-9c67-474d-b909-549c94a63428"
      },
      "outputs": [],
      "source": [
        "# Pivot the DataFrame to create a heatmap\n",
        "heatmap_data = train_data.pivot_table('ID', 'Rating')\n",
        "\n",
        "# Create the heatmap\n",
        "plt.figure(figsize=(8, 6))\n",
        "sns.heatmap(heatmap_data, annot=True, fmt='g', cmap='coolwarm', cbar=True)\n",
        "plt.title('Heatmap of User Ratings')\n",
        "plt.xlabel('Ratings')\n",
        "plt.ylabel('User ID')\n",
        "plt.show()"
      ]
    },
    {
      "cell_type": "code",
      "execution_count": null,
      "metadata": {
        "colab": {
          "base_uri": "https://localhost:8080/",
          "height": 276
        },
        "id": "POoqwg5gooJd",
        "outputId": "163757d6-cf13-4191-f762-ffde9feb266e"
      },
      "outputs": [],
      "source": [
        "# Distribution of interactions\n",
        "plt.figure(figsize=(12, 5))\n",
        "plt.subplot(1, 2, 1)\n",
        "train_data['ID'].value_counts().hist(bins=10, edgecolor='k')\n",
        "plt.xlabel('Interactions per User')\n",
        "plt.ylabel('Number of Users')\n",
        "plt.title('Distribution of Interactions per User')\n",
        "\n",
        "plt.subplot(1, 2, 2)\n",
        "train_data['ProdID'].value_counts().hist(bins=10, edgecolor='k',color='green')\n",
        "plt.xlabel('Interactions per Item')\n",
        "plt.ylabel('Number of Items')\n",
        "plt.title('Distribution of Interactions per Item')\n",
        "\n",
        "plt.tight_layout()\n",
        "plt.show()"
      ]
    },
    {
      "cell_type": "code",
      "execution_count": null,
      "metadata": {
        "colab": {
          "base_uri": "https://localhost:8080/",
          "height": 497
        },
        "id": "Oze4N0wWpgP8",
        "outputId": "3685fcf4-5bac-437e-8bcc-ef0e031a5edd"
      },
      "outputs": [],
      "source": [
        "# Most popular items\n",
        "popular_items = train_data['ProdID'].value_counts().head(5)\n",
        "popular_items.plot(kind='bar',color='red')\n",
        "plt.title(\"Most Popular items\")"
      ]
    },
    {
      "cell_type": "code",
      "execution_count": null,
      "metadata": {
        "colab": {
          "base_uri": "https://localhost:8080/",
          "height": 475
        },
        "id": "Lx94GijMpwdS",
        "outputId": "0a8137b9-3663-4601-8e78-a0e3ee4d0923"
      },
      "outputs": [],
      "source": [
        "# most rated counts\n",
        "train_data['Rating'].value_counts().plot(kind='bar',color='red')"
      ]
    },
    {
      "cell_type": "code",
      "execution_count": 28,
      "metadata": {
        "id": "zgYOC744qGWp"
      },
      "outputs": [],
      "source": [
        "import spacy\n",
        "from spacy.lang.en.stop_words import STOP_WORDS\n",
        "\n",
        "nlp = spacy.load(\"en_core_web_sm\")\n",
        "\n",
        "def clean_and_extract_tags(text):\n",
        "    doc = nlp(text.lower())\n",
        "    tags = [token.text for token in doc if token.text.isalnum() and token.text not in STOP_WORDS]\n",
        "    return ', '.join(tags)\n",
        "\n",
        "columns_to_extract_tags_from = ['Category', 'Brand', 'Description']\n",
        "\n",
        "for column in columns_to_extract_tags_from:\n",
        "    train_data[column] = train_data[column].apply(clean_and_extract_tags)"
      ]
    },
    {
      "cell_type": "code",
      "execution_count": null,
      "metadata": {
        "colab": {
          "base_uri": "https://localhost:8080/",
          "height": 1000
        },
        "id": "04bMHI-fsN7H",
        "outputId": "46a5ae85-bc32-4aca-fcbc-14e3aa3abfc6"
      },
      "outputs": [],
      "source": [
        "train_data"
      ]
    },
    {
      "cell_type": "code",
      "execution_count": 30,
      "metadata": {
        "id": "MyoHUPSVs-Mr"
      },
      "outputs": [],
      "source": [
        "# Concatenate the cleaned tags from all relevant columns\n",
        "train_data['Tags'] = train_data[columns_to_extract_tags_from].apply(lambda row: ', '.join(row),axis=1)"
      ]
    },
    {
      "cell_type": "code",
      "execution_count": null,
      "metadata": {
        "colab": {
          "base_uri": "https://localhost:8080/",
          "height": 1000
        },
        "id": "AQ4V9S7ytndG",
        "outputId": "7d18f635-aaf3-4f99-9c3e-b43d3661ad24"
      },
      "outputs": [],
      "source": [
        "train_data"
      ]
    },
    {
      "cell_type": "code",
      "execution_count": null,
      "metadata": {
        "colab": {
          "base_uri": "https://localhost:8080/",
          "height": 323
        },
        "id": "v1ghOfI_tthw",
        "outputId": "3548298c-28a2-4608-840e-95c7d84a4e69"
      },
      "outputs": [],
      "source": [
        "train_data.head(2)"
      ]
    },
    {
      "cell_type": "code",
      "execution_count": 33,
      "metadata": {
        "id": "ik2VLniJPS-x"
      },
      "outputs": [],
      "source": [
        "average_ratings=train_data.groupby(['Name','ReviewCount','Brand','ImageURL'])['Rating'].mean().reset_index()"
      ]
    },
    {
      "cell_type": "code",
      "execution_count": 34,
      "metadata": {
        "id": "VIHrhTOJPtEk"
      },
      "outputs": [],
      "source": [
        "top_rated_items = average_ratings.sort_values(by='Rating',ascending=False)"
      ]
    },
    {
      "cell_type": "code",
      "execution_count": 35,
      "metadata": {
        "id": "m5jNWTopRupB"
      },
      "outputs": [],
      "source": [
        "rating_base_recommendation= top_rated_items.head(10)"
      ]
    },
    {
      "cell_type": "code",
      "execution_count": null,
      "metadata": {
        "colab": {
          "base_uri": "https://localhost:8080/",
          "height": 956
        },
        "id": "-X8UL5jhSeOL",
        "outputId": "4453e9f1-3a70-461a-9f2f-1ecc63f7db71"
      },
      "outputs": [],
      "source": [
        "rating_base_recommendation"
      ]
    },
    {
      "cell_type": "code",
      "execution_count": null,
      "metadata": {
        "colab": {
          "base_uri": "https://localhost:8080/"
        },
        "id": "CTAN6UDNS2r4",
        "outputId": "3b36ed05-47aa-401c-c606-93c16f0ec265"
      },
      "outputs": [],
      "source": [
        "rating_base_recommendation['Rating']=rating_base_recommendation['Rating'].astype(int)\n",
        "rating_base_recommendation['ReviewCount']=rating_base_recommendation['ReviewCount'].astype(int)"
      ]
    },
    {
      "cell_type": "code",
      "execution_count": null,
      "metadata": {
        "colab": {
          "base_uri": "https://localhost:8080/",
          "height": 956
        },
        "id": "Tw6Y9gjyTogD",
        "outputId": "5447b7e3-3ad5-4b18-8e13-ded3d1445a4d"
      },
      "outputs": [],
      "source": [
        "rating_base_recommendation"
      ]
    },
    {
      "cell_type": "code",
      "execution_count": null,
      "metadata": {
        "colab": {
          "base_uri": "https://localhost:8080/",
          "height": 1000
        },
        "id": "Rd8k8-uqTuKt",
        "outputId": "ba12c7e8-9d54-4c4e-dd1b-e9e024ef8252"
      },
      "outputs": [],
      "source": [
        "print(\"Rating Base Recommendation System: (Trending Products)\")\n",
        "rating_base_recommendation[['Name','Rating','ReviewCount','Brand','ImageURL']] = rating_base_recommendation[['Name','Rating','ReviewCount','Brand','ImageURL']]\n",
        "rating_base_recommendation"
      ]
    },
    {
      "cell_type": "code",
      "execution_count": null,
      "metadata": {
        "colab": {
          "base_uri": "https://localhost:8080/",
          "height": 222
        },
        "id": "tV_j3EgiVHHV",
        "outputId": "4d6a4b5f-1ce1-4898-db3c-67dad5abfd31"
      },
      "outputs": [],
      "source": [
        "train_data.head(1)"
      ]
    },
    {
      "cell_type": "code",
      "execution_count": 41,
      "metadata": {
        "id": "IUj3rZ4IV9qm"
      },
      "outputs": [],
      "source": [
        "from sklearn.feature_extraction.text import TfidfVectorizer\n",
        "from sklearn.metrics.pairwise import cosine_similarity\n",
        "\n",
        "tfidf_vectorizer = TfidfVectorizer(stop_words='english')\n",
        "tfidf_matrix_content = tfidf_vectorizer.fit_transform(train_data['Tags'])\n",
        "cosine_similarities_content =cosine_similarity(tfidf_matrix_content,tfidf_matrix_content)"
      ]
    },
    {
      "cell_type": "code",
      "execution_count": null,
      "metadata": {
        "colab": {
          "base_uri": "https://localhost:8080/"
        },
        "id": "1RUOg3Gud35v",
        "outputId": "15b7cf9f-007e-4890-a0d4-18fa3e7db27f"
      },
      "outputs": [],
      "source": [
        "cosine_similarities_content"
      ]
    },
    {
      "cell_type": "code",
      "execution_count": null,
      "metadata": {
        "colab": {
          "base_uri": "https://localhost:8080/",
          "height": 458
        },
        "id": "U2iohNjOeCPO",
        "outputId": "7caf6912-3f91-4215-f5b5-ebbb26e173d5"
      },
      "outputs": [],
      "source": [
        "train_data['Tags']"
      ]
    },
    {
      "cell_type": "code",
      "execution_count": 44,
      "metadata": {
        "id": "3qotfHabfDu1"
      },
      "outputs": [],
      "source": [
        "item_name = 'OPI Infinite Shine, Nail Lacquer Nail Polish, Bubble Bath'\n",
        "item_index=train_data[train_data['Name']==item_name].index[0]"
      ]
    },
    {
      "cell_type": "code",
      "execution_count": null,
      "metadata": {
        "colab": {
          "base_uri": "https://localhost:8080/",
          "height": 458
        },
        "id": "hDYUv75KkIJs",
        "outputId": "a643c51d-3e62-4e37-e276-9d60222b5323"
      },
      "outputs": [],
      "source": [
        "train_data['Name']"
      ]
    },
    {
      "cell_type": "code",
      "execution_count": 46,
      "metadata": {
        "id": "OP1NERhGlaxV"
      },
      "outputs": [],
      "source": [
        "similar_items = list(enumerate(cosine_similarities_content[item_index]))"
      ]
    },
    {
      "cell_type": "code",
      "execution_count": 48,
      "metadata": {
        "id": "VjnRSxCanTXi"
      },
      "outputs": [],
      "source": [
        "similar_items =sorted(similar_items, key=lambda x:x[1], reverse=True)\n",
        "top_similar_items = similar_items[1:10]\n",
        "\n",
        "recommended_items_indics = [x[0] for x in top_similar_items]"
      ]
    },
    {
      "cell_type": "code",
      "execution_count": null,
      "metadata": {
        "colab": {
          "base_uri": "https://localhost:8080/",
          "height": 332
        },
        "id": "GiXSFhNJnoW3",
        "outputId": "5541e936-bfad-4226-c931-3a7ff32618b0"
      },
      "outputs": [],
      "source": [
        "train_data.iloc[recommended_items_indics][['Name','ReviewCount','Brand']]"
      ]
    },
    {
      "cell_type": "code",
      "execution_count": 50,
      "metadata": {
        "id": "dn9MR1htrH5m"
      },
      "outputs": [],
      "source": [
        "from sklearn.feature_extraction.text import TfidfVectorizer\n",
        "from sklearn.metrics.pairwise import cosine_similarity\n",
        "\n",
        "def content_based_recommendations(train_data, item_name, top_n=10):\n",
        "    # Check if the item name exists in the training data\n",
        "    if item_name not in train_data['Name'].values:\n",
        "        print(f\"Item '{item_name}' not found in the training data.\")\n",
        "        return pd.DataFrame()\n",
        "\n",
        "    # Create a TF-IDF vectorizer for item descriptions\n",
        "    tfidf_vectorizer = TfidfVectorizer(stop_words='english')\n",
        "\n",
        "    # Apply TF-IDF vectorization to item descriptions\n",
        "    tfidf_matrix_content = tfidf_vectorizer.fit_transform(train_data['Tags'])\n",
        "\n",
        "    # Calculate cosine similarity between items based on descriptions\n",
        "    cosine_similarities_content = cosine_similarity(tfidf_matrix_content, tfidf_matrix_content)\n",
        "\n",
        "    # Find the index of the item\n",
        "    item_index = train_data[train_data['Name'] == item_name].index[0]\n",
        "\n",
        "    # Get the cosine similarity scores for the item\n",
        "    similar_items = list(enumerate(cosine_similarities_content[item_index]))\n",
        "\n",
        "    # Sort similar items by similarity score in descending order\n",
        "    similar_items = sorted(similar_items, key=lambda x: x[1], reverse=True)\n",
        "\n",
        "    # Get the top N most similar items (excluding the item itself)\n",
        "    top_similar_items = similar_items[1:top_n+1]\n",
        "\n",
        "    # Get the indices of the top similar items\n",
        "    recommended_item_indices = [x[0] for x in top_similar_items]\n",
        "\n",
        "    # Get the details of the top similar items\n",
        "    recommended_items_details = train_data.iloc[recommended_item_indices][['Name', 'ReviewCount', 'Brand', 'ImageURL', 'Rating']]\n",
        "\n",
        "    return recommended_items_details"
      ]
    },
    {
      "cell_type": "code",
      "execution_count": null,
      "metadata": {
        "colab": {
          "base_uri": "https://localhost:8080/",
          "height": 945
        },
        "id": "Oas_DL1xsP-7",
        "outputId": "da9e9396-2b8f-407c-b7b8-5213dd3f0a5b"
      },
      "outputs": [],
      "source": [
        "# Example: Get content-based recommendations for a specific item\n",
        "item_name = 'OPI Infinite Shine, Nail Lacquer Nail Polish, Bubble Bath'\n",
        "content_based_rec = content_based_recommendations(train_data, item_name, top_n=8)\n",
        "\n",
        "content_based_rec"
      ]
    },
    {
      "cell_type": "code",
      "execution_count": null,
      "metadata": {
        "colab": {
          "base_uri": "https://localhost:8080/",
          "height": 1000
        },
        "id": "v41rzmLcsTpf",
        "outputId": "72f04b50-354b-4e3e-b0ce-f3b172633bb1"
      },
      "outputs": [],
      "source": [
        "train_data\n"
      ]
    },
    {
      "cell_type": "code",
      "execution_count": 54,
      "metadata": {
        "id": "fbMhxd14I-4l"
      },
      "outputs": [],
      "source": [
        "user_item_matrix=train_data.pivot_table(index='ID', columns='ProdID', values='Rating',aggfunc='mean').fillna(0).astype(int)"
      ]
    },
    {
      "cell_type": "code",
      "execution_count": 56,
      "metadata": {
        "id": "A0Vu6zJgKKxr"
      },
      "outputs": [],
      "source": [
        "user_similarity=cosine_similarity(user_item_matrix)"
      ]
    },
    {
      "cell_type": "code",
      "execution_count": 60,
      "metadata": {
        "id": "_7_Yh5P7Kv_x"
      },
      "outputs": [],
      "source": [
        "target_user_id=4\n",
        "target_user_index=user_item_matrix.index.get_loc(target_user_id)"
      ]
    },
    {
      "cell_type": "code",
      "execution_count": 63,
      "metadata": {
        "id": "x140nSjTMzyb"
      },
      "outputs": [],
      "source": [
        "user_similarities=user_similarity[target_user_index]\n",
        "similar_user_indices=user_similarities.argsort()[::-1][1:]"
      ]
    },
    {
      "cell_type": "code",
      "execution_count": 70,
      "metadata": {
        "id": "ruh9EYx5NRbn"
      },
      "outputs": [],
      "source": [
        "recommend_items =[]\n",
        "\n",
        "for user_index in similar_user_indices:\n",
        "  rated_by_similar_user = user_item_matrix.iloc[user_index]\n",
        "  not_rated_by_target_user =(rated_by_similar_user==0)&(user_item_matrix.iloc[target_user_index]==0)\n",
        "\n",
        "  recommend_items.extend(user_item_matrix.columns[not_rated_by_target_user][:10])\n",
        "\n",
        "recommended_items_details = train_data[train_data['ProdID'].isin(recommend_items)][['Name','ReviewCount','Brand','ImageURL','Rating']]"
      ]
    },
    {
      "cell_type": "code",
      "execution_count": null,
      "metadata": {
        "colab": {
          "base_uri": "https://localhost:8080/",
          "height": 1000
        },
        "id": "CLwxbZHNRRMY",
        "outputId": "c74a92d1-7e2e-40d3-af7b-244f4ecab033"
      },
      "outputs": [],
      "source": [
        "recommended_items_details"
      ]
    },
    {
      "cell_type": "code",
      "execution_count": null,
      "metadata": {
        "colab": {
          "base_uri": "https://localhost:8080/",
          "height": 608
        },
        "id": "q6LsxEC9VgWt",
        "outputId": "e5ea5945-b806-4f79-a391-89af55813e9c"
      },
      "outputs": [],
      "source": [
        "def collaborative_filtering_recommendations(train_data, target_user_id, top_n):\n",
        "    # Create the user-item matrix\n",
        "    user_item_matrix = train_data.pivot_table(index='ID', columns='ProdID', values='Rating', aggfunc='mean').fillna(0)\n",
        "\n",
        "    # Calculate the user similarity matrix using cosine similarity\n",
        "    user_similarity = cosine_similarity(user_item_matrix)\n",
        "\n",
        "    # Find the index of the target user in the matrix\n",
        "    target_user_index = user_item_matrix.index.get_loc(target_user_id)\n",
        "\n",
        "    # Get the similarity scores for the target user\n",
        "    user_similarities = user_similarity[target_user_index]\n",
        "\n",
        "    # Sort the users by similarity in descending order (excluding the target user)\n",
        "    similar_users_indices = user_similarities.argsort()[::-1][1:]\n",
        "\n",
        "    # Generate recommendations based on similar users\n",
        "    recommended_items = []\n",
        "\n",
        "    for user_index in similar_users_indices:\n",
        "        # Get items rated by the similar user but not by the target user\n",
        "        rated_by_similar_user = user_item_matrix.iloc[user_index]\n",
        "        not_rated_by_target_user = (rated_by_similar_user == 0) & (user_item_matrix.iloc[target_user_index] == 0)\n",
        "\n",
        "        # Extract the item IDs of recommended items\n",
        "        recommended_items.extend(user_item_matrix.columns[not_rated_by_target_user][:top_n])\n",
        "\n",
        "    # Get the details of recommended items\n",
        "    recommended_items_details = train_data[train_data['ProdID'].isin(recommended_items)][['Name', 'ReviewCount', 'Brand', 'ImageURL', 'Rating']]\n",
        "\n",
        "    return recommended_items_details.head(top_n)\n",
        "\n",
        "# Example usage\n",
        "target_user_id = 4\n",
        "top_n = 5\n",
        "collaborative_filtering_rec = collaborative_filtering_recommendations(train_data, target_user_id,top_n)\n",
        "print(f\"Top {top_n} recommendations for User {target_user_id}:\")\n",
        "collaborative_filtering_rec"
      ]
    },
    {
      "cell_type": "code",
      "execution_count": 76,
      "metadata": {
        "id": "N-DV46faWsS2"
      },
      "outputs": [],
      "source": [
        "# Hybrid Recommendations (Combine Content-Based and Collaborative Filtering)\n",
        "def hybrid_recommendations(train_data,target_user_id, item_name, top_n=10):\n",
        "    # Get content-based recommendations\n",
        "    content_based_rec = content_based_recommendations(train_data,item_name, top_n)\n",
        "\n",
        "    # Get collaborative filtering recommendations\n",
        "    collaborative_filtering_rec = collaborative_filtering_recommendations(train_data,target_user_id, top_n)\n",
        "\n",
        "    # Merge and deduplicate the recommendations\n",
        "    hybrid_rec = pd.concat([content_based_rec, collaborative_filtering_rec]).drop_duplicates()\n",
        "\n",
        "    return hybrid_rec.head(10)"
      ]
    },
    {
      "cell_type": "code",
      "execution_count": null,
      "metadata": {
        "colab": {
          "base_uri": "https://localhost:8080/",
          "height": 938
        },
        "id": "lhmixRBBc4-z",
        "outputId": "73dc9d6a-1f3f-42dd-d81b-de5015c11147"
      },
      "outputs": [],
      "source": [
        "# Example usage: Get hybrid recommendations for a specific user and item\n",
        "target_user_id = 4 # Change this to the user_id you want recommendations for\n",
        "item_name = \"OPI Nail Lacquer Polish .5oz/15mL - This Gown Needs A Crown NL U11\"  # Change this to the item name\n",
        "hybrid_rec = hybrid_recommendations(train_data,target_user_id, item_name, top_n=10)\n",
        "\n",
        "print(f\"Top 10 Hybrid Recommendations for User {target_user_id} and Item '{item_name}':\")\n",
        "hybrid_rec"
      ]
    },
    {
      "cell_type": "code",
      "execution_count": null,
      "metadata": {
        "id": "DVCPrBczdY4U"
      },
      "outputs": [],
      "source": []
    }
  ],
  "metadata": {
    "colab": {
      "provenance": []
    },
    "kernelspec": {
      "display_name": "Python 3",
      "name": "python3"
    },
    "language_info": {
      "codemirror_mode": {
        "name": "ipython",
        "version": 3
      },
      "file_extension": ".py",
      "mimetype": "text/x-python",
      "name": "python",
      "nbconvert_exporter": "python",
      "pygments_lexer": "ipython3",
      "version": "3.12.5"
    }
  },
  "nbformat": 4,
  "nbformat_minor": 0
}
