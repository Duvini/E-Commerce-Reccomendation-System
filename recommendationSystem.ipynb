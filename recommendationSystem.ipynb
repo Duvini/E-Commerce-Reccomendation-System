{
  "cells": [
    {
      "cell_type": "code",
      "execution_count": 1,
      "metadata": {
        "id": "H1Dn9yFRPJPW"
      },
      "outputs": [
        {
          "name": "stderr",
          "output_type": "stream",
          "text": [
            "c:\\Users\\rusha\\anaconda3\\lib\\site-packages\\scipy\\__init__.py:155: UserWarning: A NumPy version >=1.18.5 and <1.25.0 is required for this version of SciPy (detected version 1.26.4\n",
            "  warnings.warn(f\"A NumPy version >={np_minversion} and <{np_maxversion}\"\n"
          ]
        }
      ],
      "source": [
        "import pandas as pd\n",
        "import numpy as np\n",
        "import matplotlib.pyplot as plt\n",
        "import seaborn as sns\n",
        "import gzip\n",
        "\n",
        "from sklearn.metrics.pairwise import cosine_similarity\n",
        "from sklearn.feature_extraction.text import TfidfVectorizer\n",
        "\n",
        "\n",
        "import numpy as np\n",
        "import os\n",
        "from scipy.sparse import coo_matrix"
      ]
    },
    {
      "cell_type": "code",
      "execution_count": 3,
      "metadata": {
        "colab": {
          "base_uri": "https://localhost:8080/"
        },
        "id": "YJjtLryVTejC",
        "outputId": "3b8c5933-5f45-4089-c514-95e9bb6378fc"
      },
      "outputs": [
        {
          "name": "stdout",
          "output_type": "stream",
          "text": [
            "Index(['Uniq Id', 'Crawl Timestamp', 'Dataset Origin', 'Product Id',\n",
            "       'Product Barcode', 'Product Company Type Source',\n",
            "       'Product Brand Source', 'Product Brand Normalised Source',\n",
            "       'Product Name Source', 'Match Rank', 'Match Score', 'Match Type',\n",
            "       'Retailer', 'Product Category', 'Product Brand', 'Product Name',\n",
            "       'Product Price', 'Sku', 'Upc', 'Product Url', 'Market',\n",
            "       'Product Description', 'Product Currency',\n",
            "       'Product Available Inventory', 'Product Image Url',\n",
            "       'Product Model Number', 'Product Tags', 'Product Contents',\n",
            "       'Product Rating', 'Product Reviews Count', 'Bsr', 'Joining Key'],\n",
            "      dtype='object')\n"
          ]
        }
      ],
      "source": [
        "# Open the compressed file using gzip\n",
        "with gzip.open('marketing_sample_for_walmart_com-walmart_com_product_review__20200701_20201231__5k_data.tsv', 'rt', encoding='utf-8') as f:\n",
        "    train_data = pd.read_csv(f, sep='\\t')\n",
        "\n",
        "# Check the columns\n",
        "print(train_data.columns)\n",
        "\n"
      ]
    },
    {
      "cell_type": "code",
      "execution_count": 4,
      "metadata": {
        "colab": {
          "base_uri": "https://localhost:8080/"
        },
        "id": "NLntgxQwdhXC",
        "outputId": "6a242e2c-9bf8-4d64-8979-ffc29f9e8be2"
      },
      "outputs": [
        {
          "name": "stdout",
          "output_type": "stream",
          "text": [
            "Index(['Uniq Id', 'Crawl Timestamp', 'Dataset Origin', 'Product Id',\n",
            "       'Product Barcode', 'Product Company Type Source',\n",
            "       'Product Brand Source', 'Product Brand Normalised Source',\n",
            "       'Product Name Source', 'Match Rank', 'Match Score', 'Match Type',\n",
            "       'Retailer', 'Product Category', 'Product Brand', 'Product Name',\n",
            "       'Product Price', 'Sku', 'Upc', 'Product Url', 'Market',\n",
            "       'Product Description', 'Product Currency',\n",
            "       'Product Available Inventory', 'Product Image Url',\n",
            "       'Product Model Number', 'Product Tags', 'Product Contents',\n",
            "       'Product Rating', 'Product Reviews Count', 'Bsr', 'Joining Key'],\n",
            "      dtype='object')\n"
          ]
        }
      ],
      "source": [
        "print(train_data.columns)"
      ]
    },
    {
      "cell_type": "code",
      "execution_count": 5,
      "metadata": {
        "colab": {
          "base_uri": "https://localhost:8080/",
          "height": 387
        },
        "id": "oOeu7OqTeZbX",
        "outputId": "6cfa5673-69c4-40df-e4ca-99527849bb34"
      },
      "outputs": [
        {
          "data": {
            "text/html": [
              "<div>\n",
              "<style scoped>\n",
              "    .dataframe tbody tr th:only-of-type {\n",
              "        vertical-align: middle;\n",
              "    }\n",
              "\n",
              "    .dataframe tbody tr th {\n",
              "        vertical-align: top;\n",
              "    }\n",
              "\n",
              "    .dataframe thead th {\n",
              "        text-align: right;\n",
              "    }\n",
              "</style>\n",
              "<table border=\"1\" class=\"dataframe\">\n",
              "  <thead>\n",
              "    <tr style=\"text-align: right;\">\n",
              "      <th></th>\n",
              "      <th>Uniq Id</th>\n",
              "      <th>Crawl Timestamp</th>\n",
              "      <th>Dataset Origin</th>\n",
              "      <th>Product Id</th>\n",
              "      <th>Product Barcode</th>\n",
              "      <th>Product Company Type Source</th>\n",
              "      <th>Product Brand Source</th>\n",
              "      <th>Product Brand Normalised Source</th>\n",
              "      <th>Product Name Source</th>\n",
              "      <th>Match Rank</th>\n",
              "      <th>...</th>\n",
              "      <th>Product Currency</th>\n",
              "      <th>Product Available Inventory</th>\n",
              "      <th>Product Image Url</th>\n",
              "      <th>Product Model Number</th>\n",
              "      <th>Product Tags</th>\n",
              "      <th>Product Contents</th>\n",
              "      <th>Product Rating</th>\n",
              "      <th>Product Reviews Count</th>\n",
              "      <th>Bsr</th>\n",
              "      <th>Joining Key</th>\n",
              "    </tr>\n",
              "  </thead>\n",
              "  <tbody>\n",
              "    <tr>\n",
              "      <th>0</th>\n",
              "      <td>1705736792d82aa2f2d3caf1c07c53f4</td>\n",
              "      <td>2020-09-24 03:21:12 +0000</td>\n",
              "      <td>NaN</td>\n",
              "      <td>2e17bf4acecdece67fc00f07ad62c910</td>\n",
              "      <td>NaN</td>\n",
              "      <td>Competitor</td>\n",
              "      <td>NaN</td>\n",
              "      <td>NaN</td>\n",
              "      <td>NaN</td>\n",
              "      <td>NaN</td>\n",
              "      <td>...</td>\n",
              "      <td>USD</td>\n",
              "      <td>111111111</td>\n",
              "      <td>https://i5.walmartimages.com/asr/0e1f4c51-c1a4...</td>\n",
              "      <td>NaN</td>\n",
              "      <td>OPI Infinite Shine, Nail Lacquer Nail Polish, ...</td>\n",
              "      <td>NaN</td>\n",
              "      <td>NaN</td>\n",
              "      <td>NaN</td>\n",
              "      <td>NaN</td>\n",
              "      <td>81350af1be98d3753cf964709f0c766a</td>\n",
              "    </tr>\n",
              "    <tr>\n",
              "      <th>1</th>\n",
              "      <td>95a9fe6f4810fcfc7ff244fd06784f11</td>\n",
              "      <td>2020-10-30 14:04:08 +0000</td>\n",
              "      <td>NaN</td>\n",
              "      <td>076e5854a62dd283c253d6bae415af1f</td>\n",
              "      <td>NaN</td>\n",
              "      <td>Competitor</td>\n",
              "      <td>NaN</td>\n",
              "      <td>NaN</td>\n",
              "      <td>NaN</td>\n",
              "      <td>NaN</td>\n",
              "      <td>...</td>\n",
              "      <td>USD</td>\n",
              "      <td>111111111</td>\n",
              "      <td>https://i5.walmartimages.com/asr/9c8e42e4-13a5...</td>\n",
              "      <td>NaN</td>\n",
              "      <td>Nice 'n Easy Permanent Color, 111 Natural Medi...</td>\n",
              "      <td>NaN</td>\n",
              "      <td>NaN</td>\n",
              "      <td>NaN</td>\n",
              "      <td>NaN</td>\n",
              "      <td>0353e63907dc0de0c734db4690300057</td>\n",
              "    </tr>\n",
              "  </tbody>\n",
              "</table>\n",
              "<p>2 rows × 32 columns</p>\n",
              "</div>"
            ],
            "text/plain": [
              "                            Uniq Id            Crawl Timestamp  \\\n",
              "0  1705736792d82aa2f2d3caf1c07c53f4  2020-09-24 03:21:12 +0000   \n",
              "1  95a9fe6f4810fcfc7ff244fd06784f11  2020-10-30 14:04:08 +0000   \n",
              "\n",
              "   Dataset Origin                        Product Id  Product Barcode  \\\n",
              "0             NaN  2e17bf4acecdece67fc00f07ad62c910              NaN   \n",
              "1             NaN  076e5854a62dd283c253d6bae415af1f              NaN   \n",
              "\n",
              "  Product Company Type Source Product Brand Source  \\\n",
              "0                  Competitor                  NaN   \n",
              "1                  Competitor                  NaN   \n",
              "\n",
              "  Product Brand Normalised Source Product Name Source  Match Rank  ...  \\\n",
              "0                             NaN                 NaN         NaN  ...   \n",
              "1                             NaN                 NaN         NaN  ...   \n",
              "\n",
              "   Product Currency  Product Available Inventory  \\\n",
              "0               USD                    111111111   \n",
              "1               USD                    111111111   \n",
              "\n",
              "                                   Product Image Url Product Model Number  \\\n",
              "0  https://i5.walmartimages.com/asr/0e1f4c51-c1a4...                  NaN   \n",
              "1  https://i5.walmartimages.com/asr/9c8e42e4-13a5...                  NaN   \n",
              "\n",
              "                                        Product Tags Product Contents  \\\n",
              "0  OPI Infinite Shine, Nail Lacquer Nail Polish, ...              NaN   \n",
              "1  Nice 'n Easy Permanent Color, 111 Natural Medi...              NaN   \n",
              "\n",
              "   Product Rating  Product Reviews Count  Bsr  \\\n",
              "0             NaN                    NaN  NaN   \n",
              "1             NaN                    NaN  NaN   \n",
              "\n",
              "                        Joining Key  \n",
              "0  81350af1be98d3753cf964709f0c766a  \n",
              "1  0353e63907dc0de0c734db4690300057  \n",
              "\n",
              "[2 rows x 32 columns]"
            ]
          },
          "execution_count": 5,
          "metadata": {},
          "output_type": "execute_result"
        }
      ],
      "source": [
        "train_data.head(2)"
      ]
    },
    {
      "cell_type": "code",
      "execution_count": 6,
      "metadata": {
        "colab": {
          "base_uri": "https://localhost:8080/",
          "height": 458
        },
        "id": "QyXLx2NjevLO",
        "outputId": "b87b7f75-727b-491c-c93b-c1b3cc4a120b"
      },
      "outputs": [
        {
          "data": {
            "text/plain": [
              "0       OPI Infinite Shine, Nail Lacquer Nail Polish, ...\n",
              "1       Nice 'n Easy Permanent Color, 111 Natural Medi...\n",
              "2       Clairol Nice 'N Easy Permanent Color 7/106A Na...\n",
              "3       Kokie Professional Matte Lipstick, Hot Berry, ...\n",
              "4       Gillette TRAC II Plus Razor Blade Refills, Fit...\n",
              "                              ...                        \n",
              "4995    Garden Mint Room Spray (Double Strength), 4 ou...\n",
              "4996    Garnier Nutrisse Nourishing Hair Color Creme (...\n",
              "4997    Nail File Electric Drill, 6 in 1 Professional ...\n",
              "4998    Creed Love In Black Hair And Body Wash 6.8oz/2...\n",
              "4999                    Foundation, Wal-mart, Walmart.com\n",
              "Name: Product Tags, Length: 5000, dtype: object"
            ]
          },
          "execution_count": 6,
          "metadata": {},
          "output_type": "execute_result"
        }
      ],
      "source": [
        "train_data['Product Tags']"
      ]
    },
    {
      "cell_type": "code",
      "execution_count": 7,
      "metadata": {
        "colab": {
          "base_uri": "https://localhost:8080/"
        },
        "id": "AIRRJs9Tf4jY",
        "outputId": "fff07fc6-e1ef-40f9-997e-9c319b4585f2"
      },
      "outputs": [
        {
          "data": {
            "text/plain": [
              "(5000, 32)"
            ]
          },
          "execution_count": 7,
          "metadata": {},
          "output_type": "execute_result"
        }
      ],
      "source": [
        "train_data.shape"
      ]
    },
    {
      "cell_type": "code",
      "execution_count": 8,
      "metadata": {
        "colab": {
          "base_uri": "https://localhost:8080/",
          "height": 1000
        },
        "id": "fmRXlDC_gqJc",
        "outputId": "d77a3f7f-469d-4407-b776-c398fecb6924"
      },
      "outputs": [
        {
          "data": {
            "text/plain": [
              "Uniq Id                               0\n",
              "Crawl Timestamp                       0\n",
              "Dataset Origin                     5000\n",
              "Product Id                            0\n",
              "Product Barcode                    5000\n",
              "Product Company Type Source           0\n",
              "Product Brand Source               4861\n",
              "Product Brand Normalised Source    4861\n",
              "Product Name Source                4861\n",
              "Match Rank                         5000\n",
              "Match Score                        5000\n",
              "Match Type                         5000\n",
              "Retailer                              0\n",
              "Product Category                     10\n",
              "Product Brand                        13\n",
              "Product Name                          0\n",
              "Product Price                        42\n",
              "Sku                                5000\n",
              "Upc                                5000\n",
              "Product Url                           0\n",
              "Market                                0\n",
              "Product Description                1127\n",
              "Product Currency                      0\n",
              "Product Available Inventory           0\n",
              "Product Image Url                     0\n",
              "Product Model Number               5000\n",
              "Product Tags                          0\n",
              "Product Contents                   5000\n",
              "Product Rating                     2806\n",
              "Product Reviews Count              1654\n",
              "Bsr                                5000\n",
              "Joining Key                           0\n",
              "dtype: int64"
            ]
          },
          "execution_count": 8,
          "metadata": {},
          "output_type": "execute_result"
        }
      ],
      "source": [
        "train_data.isnull().sum()"
      ]
    },
    {
      "cell_type": "code",
      "execution_count": 9,
      "metadata": {
        "colab": {
          "base_uri": "https://localhost:8080/",
          "height": 476
        },
        "id": "k0CHLBHlg3LM",
        "outputId": "326a14e3-33d8-4543-e1e6-add886f16b41"
      },
      "outputs": [
        {
          "data": {
            "text/html": [
              "<div>\n",
              "<style scoped>\n",
              "    .dataframe tbody tr th:only-of-type {\n",
              "        vertical-align: middle;\n",
              "    }\n",
              "\n",
              "    .dataframe tbody tr th {\n",
              "        vertical-align: top;\n",
              "    }\n",
              "\n",
              "    .dataframe thead th {\n",
              "        text-align: right;\n",
              "    }\n",
              "</style>\n",
              "<table border=\"1\" class=\"dataframe\">\n",
              "  <thead>\n",
              "    <tr style=\"text-align: right;\">\n",
              "      <th></th>\n",
              "      <th>Uniq Id</th>\n",
              "      <th>Product Id</th>\n",
              "      <th>Product Rating</th>\n",
              "      <th>Product Reviews Count</th>\n",
              "      <th>Product Category</th>\n",
              "      <th>Product Brand</th>\n",
              "      <th>Product Name</th>\n",
              "      <th>Product Image Url</th>\n",
              "      <th>Product Description</th>\n",
              "      <th>Product Tags</th>\n",
              "    </tr>\n",
              "  </thead>\n",
              "  <tbody>\n",
              "    <tr>\n",
              "      <th>0</th>\n",
              "      <td>1705736792d82aa2f2d3caf1c07c53f4</td>\n",
              "      <td>2e17bf4acecdece67fc00f07ad62c910</td>\n",
              "      <td>NaN</td>\n",
              "      <td>NaN</td>\n",
              "      <td>Premium Beauty &gt; Premium Makeup &gt; Premium Nail...</td>\n",
              "      <td>OPI</td>\n",
              "      <td>OPI Infinite Shine, Nail Lacquer Nail Polish, ...</td>\n",
              "      <td>https://i5.walmartimages.com/asr/0e1f4c51-c1a4...</td>\n",
              "      <td>NaN</td>\n",
              "      <td>OPI Infinite Shine, Nail Lacquer Nail Polish, ...</td>\n",
              "    </tr>\n",
              "    <tr>\n",
              "      <th>1</th>\n",
              "      <td>95a9fe6f4810fcfc7ff244fd06784f11</td>\n",
              "      <td>076e5854a62dd283c253d6bae415af1f</td>\n",
              "      <td>NaN</td>\n",
              "      <td>NaN</td>\n",
              "      <td>Beauty &gt; Hair Care &gt; Hair Color &gt; Auburn Hair ...</td>\n",
              "      <td>Nice'n Easy</td>\n",
              "      <td>Nice n Easy Permanent Color, 111 Natural Mediu...</td>\n",
              "      <td>https://i5.walmartimages.com/asr/9c8e42e4-13a5...</td>\n",
              "      <td>Pack of 3 Pack of 3 for the UPC: 381519000201 ...</td>\n",
              "      <td>Nice 'n Easy Permanent Color, 111 Natural Medi...</td>\n",
              "    </tr>\n",
              "    <tr>\n",
              "      <th>2</th>\n",
              "      <td>8d4d0330178d3ed181b15a4102b287f2</td>\n",
              "      <td>8a4fe5d9c7a6ed26cc44d785a454b124</td>\n",
              "      <td>4.5</td>\n",
              "      <td>29221.0</td>\n",
              "      <td>Beauty &gt; Hair Care &gt; Hair Color &gt; Permanent Ha...</td>\n",
              "      <td>Clairol</td>\n",
              "      <td>Clairol Nice N Easy Permanent Color 7/106A Nat...</td>\n",
              "      <td>https://i5.walmartimages.com/asr/e3a601c2-6a2b...</td>\n",
              "      <td>This Clairol Nice N Easy Permanent Color gives...</td>\n",
              "      <td>Clairol Nice 'N Easy Permanent Color 7/106A Na...</td>\n",
              "    </tr>\n",
              "  </tbody>\n",
              "</table>\n",
              "</div>"
            ],
            "text/plain": [
              "                            Uniq Id                        Product Id  \\\n",
              "0  1705736792d82aa2f2d3caf1c07c53f4  2e17bf4acecdece67fc00f07ad62c910   \n",
              "1  95a9fe6f4810fcfc7ff244fd06784f11  076e5854a62dd283c253d6bae415af1f   \n",
              "2  8d4d0330178d3ed181b15a4102b287f2  8a4fe5d9c7a6ed26cc44d785a454b124   \n",
              "\n",
              "   Product Rating  Product Reviews Count  \\\n",
              "0             NaN                    NaN   \n",
              "1             NaN                    NaN   \n",
              "2             4.5                29221.0   \n",
              "\n",
              "                                    Product Category Product Brand  \\\n",
              "0  Premium Beauty > Premium Makeup > Premium Nail...           OPI   \n",
              "1  Beauty > Hair Care > Hair Color > Auburn Hair ...   Nice'n Easy   \n",
              "2  Beauty > Hair Care > Hair Color > Permanent Ha...       Clairol   \n",
              "\n",
              "                                        Product Name  \\\n",
              "0  OPI Infinite Shine, Nail Lacquer Nail Polish, ...   \n",
              "1  Nice n Easy Permanent Color, 111 Natural Mediu...   \n",
              "2  Clairol Nice N Easy Permanent Color 7/106A Nat...   \n",
              "\n",
              "                                   Product Image Url  \\\n",
              "0  https://i5.walmartimages.com/asr/0e1f4c51-c1a4...   \n",
              "1  https://i5.walmartimages.com/asr/9c8e42e4-13a5...   \n",
              "2  https://i5.walmartimages.com/asr/e3a601c2-6a2b...   \n",
              "\n",
              "                                 Product Description  \\\n",
              "0                                                NaN   \n",
              "1  Pack of 3 Pack of 3 for the UPC: 381519000201 ...   \n",
              "2  This Clairol Nice N Easy Permanent Color gives...   \n",
              "\n",
              "                                        Product Tags  \n",
              "0  OPI Infinite Shine, Nail Lacquer Nail Polish, ...  \n",
              "1  Nice 'n Easy Permanent Color, 111 Natural Medi...  \n",
              "2  Clairol Nice 'N Easy Permanent Color 7/106A Na...  "
            ]
          },
          "execution_count": 9,
          "metadata": {},
          "output_type": "execute_result"
        }
      ],
      "source": [
        "train_data = train_data[['Uniq Id','Product Id', 'Product Rating', 'Product Reviews Count', 'Product Category', 'Product Brand', 'Product Name', 'Product Image Url', 'Product Description', 'Product Tags']]\n",
        "train_data.head(3)"
      ]
    },
    {
      "cell_type": "code",
      "execution_count": 10,
      "metadata": {
        "colab": {
          "base_uri": "https://localhost:8080/",
          "height": 398
        },
        "id": "iINiXElChWwR",
        "outputId": "97a40daf-3b09-4f82-93d8-7ae7d7aac5f0"
      },
      "outputs": [
        {
          "data": {
            "text/plain": [
              "Uniq Id                     0\n",
              "Product Id                  0\n",
              "Product Rating           2806\n",
              "Product Reviews Count    1654\n",
              "Product Category           10\n",
              "Product Brand              13\n",
              "Product Name                0\n",
              "Product Image Url           0\n",
              "Product Description      1127\n",
              "Product Tags                0\n",
              "dtype: int64"
            ]
          },
          "execution_count": 10,
          "metadata": {},
          "output_type": "execute_result"
        }
      ],
      "source": [
        "train_data.isnull().sum()"
      ]
    },
    {
      "cell_type": "code",
      "execution_count": 11,
      "metadata": {
        "colab": {
          "base_uri": "https://localhost:8080/"
        },
        "id": "9tRj34HRhii6",
        "outputId": "11ae9ebd-b242-4a3a-e215-92e13782401a"
      },
      "outputs": [
        {
          "data": {
            "text/plain": [
              "(5000, 10)"
            ]
          },
          "execution_count": 11,
          "metadata": {},
          "output_type": "execute_result"
        }
      ],
      "source": [
        "train_data.shape"
      ]
    },
    {
      "cell_type": "code",
      "execution_count": 13,
      "metadata": {
        "id": "w_Naw7Njh0zc"
      },
      "outputs": [],
      "source": [
        "# Fill missing values in 'Product Rating' with a default value (e.g., 0)\n",
        "train_data['Product Rating'].fillna(0, inplace=True)\n",
        "# Fill missing values in 'Product Reviews Count' with a default value (e.g., 0)\n",
        "train_data['Product Reviews Count'].fillna(0, inplace=True)\n",
        "# Fill missing values in 'Product Category' with a default value (e.g., 'Unknown')\n",
        "train_data['Product Category'].fillna('', inplace=True)\n",
        "# Fill missing values in 'Product Brand' with a default value (e.g., 'Unknown')\n",
        "train_data['Product Brand'].fillna('', inplace=True)\n",
        "# Fill missing values in 'Product Description' with an empty string\n",
        "train_data['Product Description'].fillna('',inplace=True)"
      ]
    },
    {
      "cell_type": "code",
      "execution_count": 14,
      "metadata": {
        "colab": {
          "base_uri": "https://localhost:8080/",
          "height": 398
        },
        "id": "qVvz3WO4iWZE",
        "outputId": "9dea9e3a-18b9-4bee-d9ff-57ede8191d9d"
      },
      "outputs": [
        {
          "data": {
            "text/plain": [
              "Uniq Id                  0\n",
              "Product Id               0\n",
              "Product Rating           0\n",
              "Product Reviews Count    0\n",
              "Product Category         0\n",
              "Product Brand            0\n",
              "Product Name             0\n",
              "Product Image Url        0\n",
              "Product Description      0\n",
              "Product Tags             0\n",
              "dtype: int64"
            ]
          },
          "execution_count": 14,
          "metadata": {},
          "output_type": "execute_result"
        }
      ],
      "source": [
        "train_data.isnull().sum()"
      ]
    },
    {
      "cell_type": "code",
      "execution_count": 15,
      "metadata": {
        "colab": {
          "base_uri": "https://localhost:8080/"
        },
        "id": "Dj2AK3dJiuxM",
        "outputId": "f152a0ef-c157-4155-fbca-70c649af7851"
      },
      "outputs": [
        {
          "data": {
            "text/plain": [
              "0"
            ]
          },
          "execution_count": 15,
          "metadata": {},
          "output_type": "execute_result"
        }
      ],
      "source": [
        "train_data.duplicated().sum()"
      ]
    },
    {
      "cell_type": "code",
      "execution_count": 16,
      "metadata": {
        "colab": {
          "base_uri": "https://localhost:8080/"
        },
        "id": "e5zdH-wpjjF-",
        "outputId": "77bf3075-cf82-438a-d68d-e2a58c9471ae"
      },
      "outputs": [
        {
          "data": {
            "text/plain": [
              "Index(['Uniq Id', 'Product Id', 'Product Rating', 'Product Reviews Count',\n",
              "       'Product Category', 'Product Brand', 'Product Name',\n",
              "       'Product Image Url', 'Product Description', 'Product Tags'],\n",
              "      dtype='object')"
            ]
          },
          "execution_count": 16,
          "metadata": {},
          "output_type": "execute_result"
        }
      ],
      "source": [
        "train_data.columns"
      ]
    },
    {
      "cell_type": "code",
      "execution_count": 17,
      "metadata": {
        "id": "MSqCoVRDjtP4"
      },
      "outputs": [],
      "source": [
        "# make columns shorter\n",
        "# Define the mapping of current column names to shorter names\n",
        "column_name_mapping = {\n",
        "    'Uniq Id': 'ID',\n",
        "    'Product Id': 'ProdID',\n",
        "    'Product Rating': 'Rating',\n",
        "    'Product Reviews Count': 'ReviewCount',\n",
        "    'Product Category': 'Category',\n",
        "    'Product Brand': 'Brand',\n",
        "    'Product Name': 'Name',\n",
        "    'Product Image Url': 'ImageURL',\n",
        "    'Product Description': 'Description',\n",
        "    'Product Tags': 'Tags',\n",
        "    'Product Contents': 'Contents'\n",
        "}\n",
        "# Rename the columns using the mapping\n",
        "train_data.rename(columns=column_name_mapping,inplace=True)"
      ]
    },
    {
      "cell_type": "code",
      "execution_count": 18,
      "metadata": {
        "colab": {
          "base_uri": "https://localhost:8080/",
          "height": 1000
        },
        "id": "CnK1On1jj5BY",
        "outputId": "a2f4da3e-8258-42e0-a6a7-ed6a0ed83d2b"
      },
      "outputs": [
        {
          "data": {
            "text/html": [
              "<div>\n",
              "<style scoped>\n",
              "    .dataframe tbody tr th:only-of-type {\n",
              "        vertical-align: middle;\n",
              "    }\n",
              "\n",
              "    .dataframe tbody tr th {\n",
              "        vertical-align: top;\n",
              "    }\n",
              "\n",
              "    .dataframe thead th {\n",
              "        text-align: right;\n",
              "    }\n",
              "</style>\n",
              "<table border=\"1\" class=\"dataframe\">\n",
              "  <thead>\n",
              "    <tr style=\"text-align: right;\">\n",
              "      <th></th>\n",
              "      <th>ID</th>\n",
              "      <th>ProdID</th>\n",
              "      <th>Rating</th>\n",
              "      <th>ReviewCount</th>\n",
              "      <th>Category</th>\n",
              "      <th>Brand</th>\n",
              "      <th>Name</th>\n",
              "      <th>ImageURL</th>\n",
              "      <th>Description</th>\n",
              "      <th>Tags</th>\n",
              "    </tr>\n",
              "  </thead>\n",
              "  <tbody>\n",
              "    <tr>\n",
              "      <th>0</th>\n",
              "      <td>1705736792d82aa2f2d3caf1c07c53f4</td>\n",
              "      <td>2e17bf4acecdece67fc00f07ad62c910</td>\n",
              "      <td>0.0</td>\n",
              "      <td>0.0</td>\n",
              "      <td>Premium Beauty &gt; Premium Makeup &gt; Premium Nail...</td>\n",
              "      <td>OPI</td>\n",
              "      <td>OPI Infinite Shine, Nail Lacquer Nail Polish, ...</td>\n",
              "      <td>https://i5.walmartimages.com/asr/0e1f4c51-c1a4...</td>\n",
              "      <td></td>\n",
              "      <td>OPI Infinite Shine, Nail Lacquer Nail Polish, ...</td>\n",
              "    </tr>\n",
              "    <tr>\n",
              "      <th>1</th>\n",
              "      <td>95a9fe6f4810fcfc7ff244fd06784f11</td>\n",
              "      <td>076e5854a62dd283c253d6bae415af1f</td>\n",
              "      <td>0.0</td>\n",
              "      <td>0.0</td>\n",
              "      <td>Beauty &gt; Hair Care &gt; Hair Color &gt; Auburn Hair ...</td>\n",
              "      <td>Nice'n Easy</td>\n",
              "      <td>Nice n Easy Permanent Color, 111 Natural Mediu...</td>\n",
              "      <td>https://i5.walmartimages.com/asr/9c8e42e4-13a5...</td>\n",
              "      <td>Pack of 3 Pack of 3 for the UPC: 381519000201 ...</td>\n",
              "      <td>Nice 'n Easy Permanent Color, 111 Natural Medi...</td>\n",
              "    </tr>\n",
              "    <tr>\n",
              "      <th>2</th>\n",
              "      <td>8d4d0330178d3ed181b15a4102b287f2</td>\n",
              "      <td>8a4fe5d9c7a6ed26cc44d785a454b124</td>\n",
              "      <td>4.5</td>\n",
              "      <td>29221.0</td>\n",
              "      <td>Beauty &gt; Hair Care &gt; Hair Color &gt; Permanent Ha...</td>\n",
              "      <td>Clairol</td>\n",
              "      <td>Clairol Nice N Easy Permanent Color 7/106A Nat...</td>\n",
              "      <td>https://i5.walmartimages.com/asr/e3a601c2-6a2b...</td>\n",
              "      <td>This Clairol Nice N Easy Permanent Color gives...</td>\n",
              "      <td>Clairol Nice 'N Easy Permanent Color 7/106A Na...</td>\n",
              "    </tr>\n",
              "    <tr>\n",
              "      <th>3</th>\n",
              "      <td>fddc4df45b35efd886794b261f730c51</td>\n",
              "      <td>03b5fb878a33eadff8b033419eab9669</td>\n",
              "      <td>0.0</td>\n",
              "      <td>0.0</td>\n",
              "      <td>Beauty &gt; Makeup &gt; Lip</td>\n",
              "      <td>Kokie Cosmetics</td>\n",
              "      <td>Kokie Professional Matte Lipstick, Hot Berry, ...</td>\n",
              "      <td>https://i5.walmartimages.com/asr/25b4b467-bc61...</td>\n",
              "      <td>Calling all matte lip lovers! Indulge in our r...</td>\n",
              "      <td>Kokie Professional Matte Lipstick, Hot Berry, ...</td>\n",
              "    </tr>\n",
              "    <tr>\n",
              "      <th>4</th>\n",
              "      <td>0990cf89a59ca6a0460349a3e4f51d42</td>\n",
              "      <td>ce3d761e57d6ccad80619297b5b1bcbc</td>\n",
              "      <td>0.0</td>\n",
              "      <td>131.0</td>\n",
              "      <td>Seasonal &gt; Stock Up Essentials &gt; Personal Care...</td>\n",
              "      <td>Gillette</td>\n",
              "      <td>Gillette TRAC II Plus Razor Blade Refills, Fit...</td>\n",
              "      <td>https://i5.walmartimages.com/asr/1a2ebb06-cd01...</td>\n",
              "      <td>In 1971, Gillette introduced the Trac II razor...</td>\n",
              "      <td>Gillette TRAC II Plus Razor Blade Refills, Fit...</td>\n",
              "    </tr>\n",
              "    <tr>\n",
              "      <th>...</th>\n",
              "      <td>...</td>\n",
              "      <td>...</td>\n",
              "      <td>...</td>\n",
              "      <td>...</td>\n",
              "      <td>...</td>\n",
              "      <td>...</td>\n",
              "      <td>...</td>\n",
              "      <td>...</td>\n",
              "      <td>...</td>\n",
              "      <td>...</td>\n",
              "    </tr>\n",
              "    <tr>\n",
              "      <th>4995</th>\n",
              "      <td>2771f0606e9638de508741f52029d51c</td>\n",
              "      <td>ad208aa8da338e84dfcf13efd49e8a75</td>\n",
              "      <td>4.5</td>\n",
              "      <td>2.0</td>\n",
              "      <td>Household Essentials &gt; Air Fresheners &gt; Spray ...</td>\n",
              "      <td>Eclectic Lady</td>\n",
              "      <td>Garden Mint Room Spray (Double Strength), 4 ou...</td>\n",
              "      <td>https://i5.walmartimages.com/asr/0e0416ae-6b70...</td>\n",
              "      <td>Garden Mint is a lovely blend of spearmint, le...</td>\n",
              "      <td>Garden Mint Room Spray (Double Strength), 4 ou...</td>\n",
              "    </tr>\n",
              "    <tr>\n",
              "      <th>4996</th>\n",
              "      <td>0f218eb3ac736975ccfdde987baa4b83</td>\n",
              "      <td>1be8241fd6249f7ee007b06afd7ff45d</td>\n",
              "      <td>3.9</td>\n",
              "      <td>7484.0</td>\n",
              "      <td>Beauty &gt; Hair Care &gt; Hair Color &gt; Permanent Ha...</td>\n",
              "      <td>Garnier</td>\n",
              "      <td>Garnier Nutrisse Nourishing Hair Color Creme (...</td>\n",
              "      <td>https://i5.walmartimages.com/asr/24d7a837-51f8...</td>\n",
              "      <td>Garnier Nutrisse Nourishing Hair Color Creme B...</td>\n",
              "      <td>Garnier Nutrisse Nourishing Hair Color Creme (...</td>\n",
              "    </tr>\n",
              "    <tr>\n",
              "      <th>4997</th>\n",
              "      <td>34d1aa70845416c3df059a088aaf18dc</td>\n",
              "      <td>96ed378fb9466b11abde8f9baea58844</td>\n",
              "      <td>0.0</td>\n",
              "      <td>4.0</td>\n",
              "      <td>Beauty &gt; Makeup &gt; Nails</td>\n",
              "      <td>Stoneway</td>\n",
              "      <td>Nail File Electric Drill, 6 in 1 Professional ...</td>\n",
              "      <td>https://i5.walmartimages.com/asr/d6202179-2c93...</td>\n",
              "      <td>Multifunctional : Our nail drill kit come with...</td>\n",
              "      <td>Nail File Electric Drill, 6 in 1 Professional ...</td>\n",
              "    </tr>\n",
              "    <tr>\n",
              "      <th>4998</th>\n",
              "      <td>ff9cfa22550bf036e2487a9100d927f1</td>\n",
              "      <td>f7b05869f3ee7fe22864ea58cbb006d1</td>\n",
              "      <td>0.0</td>\n",
              "      <td>0.0</td>\n",
              "      <td>Premium Beauty &gt; Premium Bath &amp; Body &gt; Premium...</td>\n",
              "      <td>Creed</td>\n",
              "      <td>Creed Love In Black Hair And Body Wash 6.8oz/2...</td>\n",
              "      <td>https://i5.walmartimages.com/asr/3dc99239-66d2...</td>\n",
              "      <td></td>\n",
              "      <td>Creed Love In Black Hair And Body Wash 6.8oz/2...</td>\n",
              "    </tr>\n",
              "    <tr>\n",
              "      <th>4999</th>\n",
              "      <td>0de862f8c1c4f23b6c4cfe59fd574b59</td>\n",
              "      <td>1c9e4943fd915f7b016cdc593e607e02</td>\n",
              "      <td>0.0</td>\n",
              "      <td>438.0</td>\n",
              "      <td>Beauty &gt; Makeup &gt; Face Makeup &gt; Face Makeup Br...</td>\n",
              "      <td>COVERGIRL</td>\n",
              "      <td>Foundation</td>\n",
              "      <td>https://i5.walmartimages.com/asr/a76122fd-322a...</td>\n",
              "      <td>Mousse foundation that gives you a smooth clea...</td>\n",
              "      <td>Foundation, Wal-mart, Walmart.com</td>\n",
              "    </tr>\n",
              "  </tbody>\n",
              "</table>\n",
              "<p>5000 rows × 10 columns</p>\n",
              "</div>"
            ],
            "text/plain": [
              "                                    ID                            ProdID  \\\n",
              "0     1705736792d82aa2f2d3caf1c07c53f4  2e17bf4acecdece67fc00f07ad62c910   \n",
              "1     95a9fe6f4810fcfc7ff244fd06784f11  076e5854a62dd283c253d6bae415af1f   \n",
              "2     8d4d0330178d3ed181b15a4102b287f2  8a4fe5d9c7a6ed26cc44d785a454b124   \n",
              "3     fddc4df45b35efd886794b261f730c51  03b5fb878a33eadff8b033419eab9669   \n",
              "4     0990cf89a59ca6a0460349a3e4f51d42  ce3d761e57d6ccad80619297b5b1bcbc   \n",
              "...                                ...                               ...   \n",
              "4995  2771f0606e9638de508741f52029d51c  ad208aa8da338e84dfcf13efd49e8a75   \n",
              "4996  0f218eb3ac736975ccfdde987baa4b83  1be8241fd6249f7ee007b06afd7ff45d   \n",
              "4997  34d1aa70845416c3df059a088aaf18dc  96ed378fb9466b11abde8f9baea58844   \n",
              "4998  ff9cfa22550bf036e2487a9100d927f1  f7b05869f3ee7fe22864ea58cbb006d1   \n",
              "4999  0de862f8c1c4f23b6c4cfe59fd574b59  1c9e4943fd915f7b016cdc593e607e02   \n",
              "\n",
              "      Rating  ReviewCount                                           Category  \\\n",
              "0        0.0          0.0  Premium Beauty > Premium Makeup > Premium Nail...   \n",
              "1        0.0          0.0  Beauty > Hair Care > Hair Color > Auburn Hair ...   \n",
              "2        4.5      29221.0  Beauty > Hair Care > Hair Color > Permanent Ha...   \n",
              "3        0.0          0.0                              Beauty > Makeup > Lip   \n",
              "4        0.0        131.0  Seasonal > Stock Up Essentials > Personal Care...   \n",
              "...      ...          ...                                                ...   \n",
              "4995     4.5          2.0  Household Essentials > Air Fresheners > Spray ...   \n",
              "4996     3.9       7484.0  Beauty > Hair Care > Hair Color > Permanent Ha...   \n",
              "4997     0.0          4.0                            Beauty > Makeup > Nails   \n",
              "4998     0.0          0.0  Premium Beauty > Premium Bath & Body > Premium...   \n",
              "4999     0.0        438.0  Beauty > Makeup > Face Makeup > Face Makeup Br...   \n",
              "\n",
              "                Brand                                               Name  \\\n",
              "0                 OPI  OPI Infinite Shine, Nail Lacquer Nail Polish, ...   \n",
              "1         Nice'n Easy  Nice n Easy Permanent Color, 111 Natural Mediu...   \n",
              "2             Clairol  Clairol Nice N Easy Permanent Color 7/106A Nat...   \n",
              "3     Kokie Cosmetics  Kokie Professional Matte Lipstick, Hot Berry, ...   \n",
              "4            Gillette  Gillette TRAC II Plus Razor Blade Refills, Fit...   \n",
              "...               ...                                                ...   \n",
              "4995    Eclectic Lady  Garden Mint Room Spray (Double Strength), 4 ou...   \n",
              "4996          Garnier  Garnier Nutrisse Nourishing Hair Color Creme (...   \n",
              "4997         Stoneway  Nail File Electric Drill, 6 in 1 Professional ...   \n",
              "4998            Creed  Creed Love In Black Hair And Body Wash 6.8oz/2...   \n",
              "4999        COVERGIRL                                         Foundation   \n",
              "\n",
              "                                               ImageURL  \\\n",
              "0     https://i5.walmartimages.com/asr/0e1f4c51-c1a4...   \n",
              "1     https://i5.walmartimages.com/asr/9c8e42e4-13a5...   \n",
              "2     https://i5.walmartimages.com/asr/e3a601c2-6a2b...   \n",
              "3     https://i5.walmartimages.com/asr/25b4b467-bc61...   \n",
              "4     https://i5.walmartimages.com/asr/1a2ebb06-cd01...   \n",
              "...                                                 ...   \n",
              "4995  https://i5.walmartimages.com/asr/0e0416ae-6b70...   \n",
              "4996  https://i5.walmartimages.com/asr/24d7a837-51f8...   \n",
              "4997  https://i5.walmartimages.com/asr/d6202179-2c93...   \n",
              "4998  https://i5.walmartimages.com/asr/3dc99239-66d2...   \n",
              "4999  https://i5.walmartimages.com/asr/a76122fd-322a...   \n",
              "\n",
              "                                            Description  \\\n",
              "0                                                         \n",
              "1     Pack of 3 Pack of 3 for the UPC: 381519000201 ...   \n",
              "2     This Clairol Nice N Easy Permanent Color gives...   \n",
              "3     Calling all matte lip lovers! Indulge in our r...   \n",
              "4     In 1971, Gillette introduced the Trac II razor...   \n",
              "...                                                 ...   \n",
              "4995  Garden Mint is a lovely blend of spearmint, le...   \n",
              "4996  Garnier Nutrisse Nourishing Hair Color Creme B...   \n",
              "4997  Multifunctional : Our nail drill kit come with...   \n",
              "4998                                                      \n",
              "4999  Mousse foundation that gives you a smooth clea...   \n",
              "\n",
              "                                                   Tags  \n",
              "0     OPI Infinite Shine, Nail Lacquer Nail Polish, ...  \n",
              "1     Nice 'n Easy Permanent Color, 111 Natural Medi...  \n",
              "2     Clairol Nice 'N Easy Permanent Color 7/106A Na...  \n",
              "3     Kokie Professional Matte Lipstick, Hot Berry, ...  \n",
              "4     Gillette TRAC II Plus Razor Blade Refills, Fit...  \n",
              "...                                                 ...  \n",
              "4995  Garden Mint Room Spray (Double Strength), 4 ou...  \n",
              "4996  Garnier Nutrisse Nourishing Hair Color Creme (...  \n",
              "4997  Nail File Electric Drill, 6 in 1 Professional ...  \n",
              "4998  Creed Love In Black Hair And Body Wash 6.8oz/2...  \n",
              "4999                  Foundation, Wal-mart, Walmart.com  \n",
              "\n",
              "[5000 rows x 10 columns]"
            ]
          },
          "execution_count": 18,
          "metadata": {},
          "output_type": "execute_result"
        }
      ],
      "source": [
        "train_data"
      ]
    },
    {
      "cell_type": "code",
      "execution_count": 19,
      "metadata": {
        "id": "scJvPP9DkhD9"
      },
      "outputs": [],
      "source": [
        "train_data['ID'] = train_data['ID'].str.extract(r'(\\d+)').astype(float)\n"
      ]
    },
    {
      "cell_type": "code",
      "execution_count": 20,
      "metadata": {
        "id": "82LKvLmcmJb9"
      },
      "outputs": [],
      "source": []
    },
    {
      "cell_type": "code",
      "execution_count": 20,
      "metadata": {
        "id": "3IhzNBecmODf"
      },
      "outputs": [],
      "source": [
        "train_data['ProdID'] = train_data['ProdID'].str.extract(r'(\\d+)').astype(float)"
      ]
    },
    {
      "cell_type": "code",
      "execution_count": 21,
      "metadata": {
        "colab": {
          "base_uri": "https://localhost:8080/",
          "height": 1000
        },
        "id": "hmF_oBzRm9Zf",
        "outputId": "a36b9fb4-a310-4142-ddfe-98e729164048"
      },
      "outputs": [
        {
          "data": {
            "text/html": [
              "<div>\n",
              "<style scoped>\n",
              "    .dataframe tbody tr th:only-of-type {\n",
              "        vertical-align: middle;\n",
              "    }\n",
              "\n",
              "    .dataframe tbody tr th {\n",
              "        vertical-align: top;\n",
              "    }\n",
              "\n",
              "    .dataframe thead th {\n",
              "        text-align: right;\n",
              "    }\n",
              "</style>\n",
              "<table border=\"1\" class=\"dataframe\">\n",
              "  <thead>\n",
              "    <tr style=\"text-align: right;\">\n",
              "      <th></th>\n",
              "      <th>ID</th>\n",
              "      <th>ProdID</th>\n",
              "      <th>Rating</th>\n",
              "      <th>ReviewCount</th>\n",
              "      <th>Category</th>\n",
              "      <th>Brand</th>\n",
              "      <th>Name</th>\n",
              "      <th>ImageURL</th>\n",
              "      <th>Description</th>\n",
              "      <th>Tags</th>\n",
              "    </tr>\n",
              "  </thead>\n",
              "  <tbody>\n",
              "    <tr>\n",
              "      <th>0</th>\n",
              "      <td>1.705737e+09</td>\n",
              "      <td>2.0</td>\n",
              "      <td>0.0</td>\n",
              "      <td>0.0</td>\n",
              "      <td>Premium Beauty &gt; Premium Makeup &gt; Premium Nail...</td>\n",
              "      <td>OPI</td>\n",
              "      <td>OPI Infinite Shine, Nail Lacquer Nail Polish, ...</td>\n",
              "      <td>https://i5.walmartimages.com/asr/0e1f4c51-c1a4...</td>\n",
              "      <td></td>\n",
              "      <td>OPI Infinite Shine, Nail Lacquer Nail Polish, ...</td>\n",
              "    </tr>\n",
              "    <tr>\n",
              "      <th>1</th>\n",
              "      <td>9.500000e+01</td>\n",
              "      <td>76.0</td>\n",
              "      <td>0.0</td>\n",
              "      <td>0.0</td>\n",
              "      <td>Beauty &gt; Hair Care &gt; Hair Color &gt; Auburn Hair ...</td>\n",
              "      <td>Nice'n Easy</td>\n",
              "      <td>Nice n Easy Permanent Color, 111 Natural Mediu...</td>\n",
              "      <td>https://i5.walmartimages.com/asr/9c8e42e4-13a5...</td>\n",
              "      <td>Pack of 3 Pack of 3 for the UPC: 381519000201 ...</td>\n",
              "      <td>Nice 'n Easy Permanent Color, 111 Natural Medi...</td>\n",
              "    </tr>\n",
              "    <tr>\n",
              "      <th>2</th>\n",
              "      <td>8.000000e+00</td>\n",
              "      <td>8.0</td>\n",
              "      <td>4.5</td>\n",
              "      <td>29221.0</td>\n",
              "      <td>Beauty &gt; Hair Care &gt; Hair Color &gt; Permanent Ha...</td>\n",
              "      <td>Clairol</td>\n",
              "      <td>Clairol Nice N Easy Permanent Color 7/106A Nat...</td>\n",
              "      <td>https://i5.walmartimages.com/asr/e3a601c2-6a2b...</td>\n",
              "      <td>This Clairol Nice N Easy Permanent Color gives...</td>\n",
              "      <td>Clairol Nice 'N Easy Permanent Color 7/106A Na...</td>\n",
              "    </tr>\n",
              "    <tr>\n",
              "      <th>3</th>\n",
              "      <td>4.000000e+00</td>\n",
              "      <td>3.0</td>\n",
              "      <td>0.0</td>\n",
              "      <td>0.0</td>\n",
              "      <td>Beauty &gt; Makeup &gt; Lip</td>\n",
              "      <td>Kokie Cosmetics</td>\n",
              "      <td>Kokie Professional Matte Lipstick, Hot Berry, ...</td>\n",
              "      <td>https://i5.walmartimages.com/asr/25b4b467-bc61...</td>\n",
              "      <td>Calling all matte lip lovers! Indulge in our r...</td>\n",
              "      <td>Kokie Professional Matte Lipstick, Hot Berry, ...</td>\n",
              "    </tr>\n",
              "    <tr>\n",
              "      <th>4</th>\n",
              "      <td>9.900000e+02</td>\n",
              "      <td>3.0</td>\n",
              "      <td>0.0</td>\n",
              "      <td>131.0</td>\n",
              "      <td>Seasonal &gt; Stock Up Essentials &gt; Personal Care...</td>\n",
              "      <td>Gillette</td>\n",
              "      <td>Gillette TRAC II Plus Razor Blade Refills, Fit...</td>\n",
              "      <td>https://i5.walmartimages.com/asr/1a2ebb06-cd01...</td>\n",
              "      <td>In 1971, Gillette introduced the Trac II razor...</td>\n",
              "      <td>Gillette TRAC II Plus Razor Blade Refills, Fit...</td>\n",
              "    </tr>\n",
              "    <tr>\n",
              "      <th>...</th>\n",
              "      <td>...</td>\n",
              "      <td>...</td>\n",
              "      <td>...</td>\n",
              "      <td>...</td>\n",
              "      <td>...</td>\n",
              "      <td>...</td>\n",
              "      <td>...</td>\n",
              "      <td>...</td>\n",
              "      <td>...</td>\n",
              "      <td>...</td>\n",
              "    </tr>\n",
              "    <tr>\n",
              "      <th>4995</th>\n",
              "      <td>2.771000e+03</td>\n",
              "      <td>208.0</td>\n",
              "      <td>4.5</td>\n",
              "      <td>2.0</td>\n",
              "      <td>Household Essentials &gt; Air Fresheners &gt; Spray ...</td>\n",
              "      <td>Eclectic Lady</td>\n",
              "      <td>Garden Mint Room Spray (Double Strength), 4 ou...</td>\n",
              "      <td>https://i5.walmartimages.com/asr/0e0416ae-6b70...</td>\n",
              "      <td>Garden Mint is a lovely blend of spearmint, le...</td>\n",
              "      <td>Garden Mint Room Spray (Double Strength), 4 ou...</td>\n",
              "    </tr>\n",
              "    <tr>\n",
              "      <th>4996</th>\n",
              "      <td>0.000000e+00</td>\n",
              "      <td>1.0</td>\n",
              "      <td>3.9</td>\n",
              "      <td>7484.0</td>\n",
              "      <td>Beauty &gt; Hair Care &gt; Hair Color &gt; Permanent Ha...</td>\n",
              "      <td>Garnier</td>\n",
              "      <td>Garnier Nutrisse Nourishing Hair Color Creme (...</td>\n",
              "      <td>https://i5.walmartimages.com/asr/24d7a837-51f8...</td>\n",
              "      <td>Garnier Nutrisse Nourishing Hair Color Creme B...</td>\n",
              "      <td>Garnier Nutrisse Nourishing Hair Color Creme (...</td>\n",
              "    </tr>\n",
              "    <tr>\n",
              "      <th>4997</th>\n",
              "      <td>3.400000e+01</td>\n",
              "      <td>96.0</td>\n",
              "      <td>0.0</td>\n",
              "      <td>4.0</td>\n",
              "      <td>Beauty &gt; Makeup &gt; Nails</td>\n",
              "      <td>Stoneway</td>\n",
              "      <td>Nail File Electric Drill, 6 in 1 Professional ...</td>\n",
              "      <td>https://i5.walmartimages.com/asr/d6202179-2c93...</td>\n",
              "      <td>Multifunctional : Our nail drill kit come with...</td>\n",
              "      <td>Nail File Electric Drill, 6 in 1 Professional ...</td>\n",
              "    </tr>\n",
              "    <tr>\n",
              "      <th>4998</th>\n",
              "      <td>9.000000e+00</td>\n",
              "      <td>7.0</td>\n",
              "      <td>0.0</td>\n",
              "      <td>0.0</td>\n",
              "      <td>Premium Beauty &gt; Premium Bath &amp; Body &gt; Premium...</td>\n",
              "      <td>Creed</td>\n",
              "      <td>Creed Love In Black Hair And Body Wash 6.8oz/2...</td>\n",
              "      <td>https://i5.walmartimages.com/asr/3dc99239-66d2...</td>\n",
              "      <td></td>\n",
              "      <td>Creed Love In Black Hair And Body Wash 6.8oz/2...</td>\n",
              "    </tr>\n",
              "    <tr>\n",
              "      <th>4999</th>\n",
              "      <td>0.000000e+00</td>\n",
              "      <td>1.0</td>\n",
              "      <td>0.0</td>\n",
              "      <td>438.0</td>\n",
              "      <td>Beauty &gt; Makeup &gt; Face Makeup &gt; Face Makeup Br...</td>\n",
              "      <td>COVERGIRL</td>\n",
              "      <td>Foundation</td>\n",
              "      <td>https://i5.walmartimages.com/asr/a76122fd-322a...</td>\n",
              "      <td>Mousse foundation that gives you a smooth clea...</td>\n",
              "      <td>Foundation, Wal-mart, Walmart.com</td>\n",
              "    </tr>\n",
              "  </tbody>\n",
              "</table>\n",
              "<p>5000 rows × 10 columns</p>\n",
              "</div>"
            ],
            "text/plain": [
              "                ID  ProdID  Rating  ReviewCount  \\\n",
              "0     1.705737e+09     2.0     0.0          0.0   \n",
              "1     9.500000e+01    76.0     0.0          0.0   \n",
              "2     8.000000e+00     8.0     4.5      29221.0   \n",
              "3     4.000000e+00     3.0     0.0          0.0   \n",
              "4     9.900000e+02     3.0     0.0        131.0   \n",
              "...            ...     ...     ...          ...   \n",
              "4995  2.771000e+03   208.0     4.5          2.0   \n",
              "4996  0.000000e+00     1.0     3.9       7484.0   \n",
              "4997  3.400000e+01    96.0     0.0          4.0   \n",
              "4998  9.000000e+00     7.0     0.0          0.0   \n",
              "4999  0.000000e+00     1.0     0.0        438.0   \n",
              "\n",
              "                                               Category            Brand  \\\n",
              "0     Premium Beauty > Premium Makeup > Premium Nail...              OPI   \n",
              "1     Beauty > Hair Care > Hair Color > Auburn Hair ...      Nice'n Easy   \n",
              "2     Beauty > Hair Care > Hair Color > Permanent Ha...          Clairol   \n",
              "3                                 Beauty > Makeup > Lip  Kokie Cosmetics   \n",
              "4     Seasonal > Stock Up Essentials > Personal Care...         Gillette   \n",
              "...                                                 ...              ...   \n",
              "4995  Household Essentials > Air Fresheners > Spray ...    Eclectic Lady   \n",
              "4996  Beauty > Hair Care > Hair Color > Permanent Ha...          Garnier   \n",
              "4997                            Beauty > Makeup > Nails         Stoneway   \n",
              "4998  Premium Beauty > Premium Bath & Body > Premium...            Creed   \n",
              "4999  Beauty > Makeup > Face Makeup > Face Makeup Br...        COVERGIRL   \n",
              "\n",
              "                                                   Name  \\\n",
              "0     OPI Infinite Shine, Nail Lacquer Nail Polish, ...   \n",
              "1     Nice n Easy Permanent Color, 111 Natural Mediu...   \n",
              "2     Clairol Nice N Easy Permanent Color 7/106A Nat...   \n",
              "3     Kokie Professional Matte Lipstick, Hot Berry, ...   \n",
              "4     Gillette TRAC II Plus Razor Blade Refills, Fit...   \n",
              "...                                                 ...   \n",
              "4995  Garden Mint Room Spray (Double Strength), 4 ou...   \n",
              "4996  Garnier Nutrisse Nourishing Hair Color Creme (...   \n",
              "4997  Nail File Electric Drill, 6 in 1 Professional ...   \n",
              "4998  Creed Love In Black Hair And Body Wash 6.8oz/2...   \n",
              "4999                                         Foundation   \n",
              "\n",
              "                                               ImageURL  \\\n",
              "0     https://i5.walmartimages.com/asr/0e1f4c51-c1a4...   \n",
              "1     https://i5.walmartimages.com/asr/9c8e42e4-13a5...   \n",
              "2     https://i5.walmartimages.com/asr/e3a601c2-6a2b...   \n",
              "3     https://i5.walmartimages.com/asr/25b4b467-bc61...   \n",
              "4     https://i5.walmartimages.com/asr/1a2ebb06-cd01...   \n",
              "...                                                 ...   \n",
              "4995  https://i5.walmartimages.com/asr/0e0416ae-6b70...   \n",
              "4996  https://i5.walmartimages.com/asr/24d7a837-51f8...   \n",
              "4997  https://i5.walmartimages.com/asr/d6202179-2c93...   \n",
              "4998  https://i5.walmartimages.com/asr/3dc99239-66d2...   \n",
              "4999  https://i5.walmartimages.com/asr/a76122fd-322a...   \n",
              "\n",
              "                                            Description  \\\n",
              "0                                                         \n",
              "1     Pack of 3 Pack of 3 for the UPC: 381519000201 ...   \n",
              "2     This Clairol Nice N Easy Permanent Color gives...   \n",
              "3     Calling all matte lip lovers! Indulge in our r...   \n",
              "4     In 1971, Gillette introduced the Trac II razor...   \n",
              "...                                                 ...   \n",
              "4995  Garden Mint is a lovely blend of spearmint, le...   \n",
              "4996  Garnier Nutrisse Nourishing Hair Color Creme B...   \n",
              "4997  Multifunctional : Our nail drill kit come with...   \n",
              "4998                                                      \n",
              "4999  Mousse foundation that gives you a smooth clea...   \n",
              "\n",
              "                                                   Tags  \n",
              "0     OPI Infinite Shine, Nail Lacquer Nail Polish, ...  \n",
              "1     Nice 'n Easy Permanent Color, 111 Natural Medi...  \n",
              "2     Clairol Nice 'N Easy Permanent Color 7/106A Na...  \n",
              "3     Kokie Professional Matte Lipstick, Hot Berry, ...  \n",
              "4     Gillette TRAC II Plus Razor Blade Refills, Fit...  \n",
              "...                                                 ...  \n",
              "4995  Garden Mint Room Spray (Double Strength), 4 ou...  \n",
              "4996  Garnier Nutrisse Nourishing Hair Color Creme (...  \n",
              "4997  Nail File Electric Drill, 6 in 1 Professional ...  \n",
              "4998  Creed Love In Black Hair And Body Wash 6.8oz/2...  \n",
              "4999                  Foundation, Wal-mart, Walmart.com  \n",
              "\n",
              "[5000 rows x 10 columns]"
            ]
          },
          "execution_count": 21,
          "metadata": {},
          "output_type": "execute_result"
        }
      ],
      "source": [
        "train_data"
      ]
    },
    {
      "cell_type": "code",
      "execution_count": 22,
      "metadata": {
        "id": "NexrpTr4nDHx"
      },
      "outputs": [],
      "source": []
    },
    {
      "cell_type": "code",
      "execution_count": 22,
      "metadata": {
        "colab": {
          "base_uri": "https://localhost:8080/"
        },
        "id": "2eGi0vErnX-k",
        "outputId": "67a5e9f2-4153-46ba-d05b-2ed085cf1f4f"
      },
      "outputs": [
        {
          "name": "stdout",
          "output_type": "stream",
          "text": [
            "Number of unique users: 1721\n",
            "Number of unique items: 1697\n",
            "Number of unique ratings:36\n"
          ]
        }
      ],
      "source": [
        "\n",
        "# Basic statistics\n",
        "num_users = train_data['ID'].nunique()\n",
        "num_items = train_data['ProdID'].nunique()\n",
        "num_ratings = train_data['Rating'].nunique()\n",
        "print(f\"Number of unique users: {num_users}\")\n",
        "print(f\"Number of unique items: {num_items}\")\n",
        "print(f\"Number of unique ratings:{num_ratings}\")"
      ]
    },
    {
      "cell_type": "code",
      "execution_count": 23,
      "metadata": {
        "colab": {
          "base_uri": "https://localhost:8080/",
          "height": 550
        },
        "id": "I2Z96X31nk67",
        "outputId": "13cd4d05-9c67-474d-b909-549c94a63428"
      },
      "outputs": [
        {
          "data": {
            "image/png": "[encoded data removed]",
            "text/plain": [
              "<Figure size 800x600 with 2 Axes>"
            ]
          },
          "metadata": {},
          "output_type": "display_data"
        }
      ],
      "source": [
        "# Pivot the DataFrame to create a heatmap\n",
        "heatmap_data = train_data.pivot_table('ID', 'Rating')\n",
        "\n",
        "# Create the heatmap\n",
        "plt.figure(figsize=(8, 6))\n",
        "sns.heatmap(heatmap_data, annot=True, fmt='g', cmap='coolwarm', cbar=True)\n",
        "plt.title('Heatmap of User Ratings')\n",
        "plt.xlabel('Ratings')\n",
        "plt.ylabel('User ID')\n",
        "plt.show()"
      ]
    },
    {
      "cell_type": "code",
      "execution_count": 24,
      "metadata": {
        "colab": {
          "base_uri": "https://localhost:8080/",
          "height": 276
        },
        "id": "POoqwg5gooJd",
        "outputId": "163757d6-cf13-4191-f762-ffde9feb266e"
      },
      "outputs": [
        {
          "data": {
            "image/png": "[encoded data removed]",
            "text/plain": [
              "<Figure size 1200x500 with 2 Axes>"
            ]
          },
          "metadata": {},
          "output_type": "display_data"
        }
      ],
      "source": [
        "# Distribution of interactions\n",
        "plt.figure(figsize=(12, 5))\n",
        "plt.subplot(1, 2, 1)\n",
        "train_data['ID'].value_counts().hist(bins=10, edgecolor='k')\n",
        "plt.xlabel('Interactions per User')\n",
        "plt.ylabel('Number of Users')\n",
        "plt.title('Distribution of Interactions per User')\n",
        "\n",
        "plt.subplot(1, 2, 2)\n",
        "train_data['ProdID'].value_counts().hist(bins=10, edgecolor='k',color='green')\n",
        "plt.xlabel('Interactions per Item')\n",
        "plt.ylabel('Number of Items')\n",
        "plt.title('Distribution of Interactions per Item')\n",
        "\n",
        "plt.tight_layout()\n",
        "plt.show()"
      ]
    },
    {
      "cell_type": "code",
      "execution_count": 25,
      "metadata": {
        "colab": {
          "base_uri": "https://localhost:8080/",
          "height": 497
        },
        "id": "Oze4N0wWpgP8",
        "outputId": "3685fcf4-5bac-437e-8bcc-ef0e031a5edd"
      },
      "outputs": [
        {
          "data": {
            "text/plain": [
              "Text(0.5, 1.0, 'Most\\xa0Popular\\xa0items')"
            ]
          },
          "execution_count": 25,
          "metadata": {},
          "output_type": "execute_result"
        },
        {
          "data": {
            "image/png": "[encoded data removed]",
            "text/plain": [
              "<Figure size 640x480 with 1 Axes>"
            ]
          },
          "metadata": {},
          "output_type": "display_data"
        }
      ],
      "source": [
        "# Most popular items\n",
        "popular_items = train_data['ProdID'].value_counts().head(5)\n",
        "popular_items.plot(kind='bar',color='red')\n",
        "plt.title(\"Most Popular items\")"
      ]
    },
    {
      "cell_type": "code",
      "execution_count": 26,
      "metadata": {
        "colab": {
          "base_uri": "https://localhost:8080/",
          "height": 475
        },
        "id": "Lx94GijMpwdS",
        "outputId": "0a8137b9-3663-4601-8e78-a0e3ee4d0923"
      },
      "outputs": [
        {
          "data": {
            "text/plain": [
              "<AxesSubplot:>"
            ]
          },
          "execution_count": 26,
          "metadata": {},
          "output_type": "execute_result"
        },
        {
          "data": {
            "image/png": "[encoded data removed]",
            "text/plain": [
              "<Figure size 640x480 with 1 Axes>"
            ]
          },
          "metadata": {},
          "output_type": "display_data"
        }
      ],
      "source": [
        "# most rated counts\n",
        "train_data['Rating'].value_counts().plot(kind='bar',color='red')"
      ]
    },
    {
      "cell_type": "code",
      "execution_count": 29,
      "metadata": {
        "id": "zgYOC744qGWp"
      },
      "outputs": [
        {
          "ename": "ModuleNotFoundError",
          "evalue": "No module named 'spacy'",
          "output_type": "error",
          "traceback": [
            "\u001b[1;31m---------------------------------------------------------------------------\u001b[0m",
            "\u001b[1;31mModuleNotFoundError\u001b[0m                       Traceback (most recent call last)",
            "\u001b[1;32m~\\AppData\\Local\\Temp\\ipykernel_19296\\2455358292.py\u001b[0m in \u001b[0;36m<module>\u001b[1;34m\u001b[0m\n\u001b[1;32m----> 1\u001b[1;33m \u001b[1;32mimport\u001b[0m \u001b[0mspacy\u001b[0m\u001b[1;33m\u001b[0m\u001b[1;33m\u001b[0m\u001b[0m\n\u001b[0m\u001b[0;32m      2\u001b[0m \u001b[1;32mfrom\u001b[0m \u001b[0mspacy\u001b[0m\u001b[1;33m.\u001b[0m\u001b[0mlang\u001b[0m\u001b[1;33m.\u001b[0m\u001b[0men\u001b[0m\u001b[1;33m.\u001b[0m\u001b[0mstop_words\u001b[0m \u001b[1;32mimport\u001b[0m \u001b[0mSTOP_WORDS\u001b[0m\u001b[1;33m\u001b[0m\u001b[1;33m\u001b[0m\u001b[0m\n\u001b[0;32m      3\u001b[0m \u001b[1;33m\u001b[0m\u001b[0m\n\u001b[0;32m      4\u001b[0m \u001b[0mnlp\u001b[0m \u001b[1;33m=\u001b[0m \u001b[0mspacy\u001b[0m\u001b[1;33m.\u001b[0m\u001b[0mload\u001b[0m\u001b[1;33m(\u001b[0m\u001b[1;34m\"en_core_web_sm\"\u001b[0m\u001b[1;33m)\u001b[0m\u001b[1;33m\u001b[0m\u001b[1;33m\u001b[0m\u001b[0m\n\u001b[0;32m      5\u001b[0m \u001b[1;33m\u001b[0m\u001b[0m\n",
            "\u001b[1;31mModuleNotFoundError\u001b[0m: No module named 'spacy'"
          ]
        }
      ],
      "source": [
        "import spacy\n",
        "from spacy.lang.en.stop_words import STOP_WORDS\n",
        "\n",
        "nlp = spacy.load(\"en_core_web_sm\")\n",
        "\n",
        "def clean_and_extract_tags(text):\n",
        "    doc = nlp(text.lower())\n",
        "    tags = [token.text for token in doc if token.text.isalnum() and token.text not in STOP_WORDS]\n",
        "    return ', '.join(tags)\n",
        "\n",
        "columns_to_extract_tags_from = ['Category', 'Brand', 'Description']\n",
        "\n",
        "for column in columns_to_extract_tags_from:\n",
        "    train_data[column] = train_data[column].apply(clean_and_extract_tags)"
      ]
    },
    {
      "cell_type": "code",
      "execution_count": 30,
      "metadata": {
        "colab": {
          "base_uri": "https://localhost:8080/",
          "height": 1000
        },
        "id": "04bMHI-fsN7H",
        "outputId": "46a5ae85-bc32-4aca-fcbc-14e3aa3abfc6"
      },
      "outputs": [
        {
          "data": {
            "text/html": [
              "<div>\n",
              "<style scoped>\n",
              "    .dataframe tbody tr th:only-of-type {\n",
              "        vertical-align: middle;\n",
              "    }\n",
              "\n",
              "    .dataframe tbody tr th {\n",
              "        vertical-align: top;\n",
              "    }\n",
              "\n",
              "    .dataframe thead th {\n",
              "        text-align: right;\n",
              "    }\n",
              "</style>\n",
              "<table border=\"1\" class=\"dataframe\">\n",
              "  <thead>\n",
              "    <tr style=\"text-align: right;\">\n",
              "      <th></th>\n",
              "      <th>ID</th>\n",
              "      <th>ProdID</th>\n",
              "      <th>Rating</th>\n",
              "      <th>ReviewCount</th>\n",
              "      <th>Category</th>\n",
              "      <th>Brand</th>\n",
              "      <th>Name</th>\n",
              "      <th>ImageURL</th>\n",
              "      <th>Description</th>\n",
              "      <th>Tags</th>\n",
              "    </tr>\n",
              "  </thead>\n",
              "  <tbody>\n",
              "    <tr>\n",
              "      <th>0</th>\n",
              "      <td>1.705737e+09</td>\n",
              "      <td>2.0</td>\n",
              "      <td>0.0</td>\n",
              "      <td>0.0</td>\n",
              "      <td>Premium Beauty &gt; Premium Makeup &gt; Premium Nail...</td>\n",
              "      <td>OPI</td>\n",
              "      <td>OPI Infinite Shine, Nail Lacquer Nail Polish, ...</td>\n",
              "      <td>https://i5.walmartimages.com/asr/0e1f4c51-c1a4...</td>\n",
              "      <td></td>\n",
              "      <td>OPI Infinite Shine, Nail Lacquer Nail Polish, ...</td>\n",
              "    </tr>\n",
              "    <tr>\n",
              "      <th>1</th>\n",
              "      <td>9.500000e+01</td>\n",
              "      <td>76.0</td>\n",
              "      <td>0.0</td>\n",
              "      <td>0.0</td>\n",
              "      <td>Beauty &gt; Hair Care &gt; Hair Color &gt; Auburn Hair ...</td>\n",
              "      <td>Nice'n Easy</td>\n",
              "      <td>Nice n Easy Permanent Color, 111 Natural Mediu...</td>\n",
              "      <td>https://i5.walmartimages.com/asr/9c8e42e4-13a5...</td>\n",
              "      <td>Pack of 3 Pack of 3 for the UPC: 381519000201 ...</td>\n",
              "      <td>Nice 'n Easy Permanent Color, 111 Natural Medi...</td>\n",
              "    </tr>\n",
              "    <tr>\n",
              "      <th>2</th>\n",
              "      <td>8.000000e+00</td>\n",
              "      <td>8.0</td>\n",
              "      <td>4.5</td>\n",
              "      <td>29221.0</td>\n",
              "      <td>Beauty &gt; Hair Care &gt; Hair Color &gt; Permanent Ha...</td>\n",
              "      <td>Clairol</td>\n",
              "      <td>Clairol Nice N Easy Permanent Color 7/106A Nat...</td>\n",
              "      <td>https://i5.walmartimages.com/asr/e3a601c2-6a2b...</td>\n",
              "      <td>This Clairol Nice N Easy Permanent Color gives...</td>\n",
              "      <td>Clairol Nice 'N Easy Permanent Color 7/106A Na...</td>\n",
              "    </tr>\n",
              "    <tr>\n",
              "      <th>3</th>\n",
              "      <td>4.000000e+00</td>\n",
              "      <td>3.0</td>\n",
              "      <td>0.0</td>\n",
              "      <td>0.0</td>\n",
              "      <td>Beauty &gt; Makeup &gt; Lip</td>\n",
              "      <td>Kokie Cosmetics</td>\n",
              "      <td>Kokie Professional Matte Lipstick, Hot Berry, ...</td>\n",
              "      <td>https://i5.walmartimages.com/asr/25b4b467-bc61...</td>\n",
              "      <td>Calling all matte lip lovers! Indulge in our r...</td>\n",
              "      <td>Kokie Professional Matte Lipstick, Hot Berry, ...</td>\n",
              "    </tr>\n",
              "    <tr>\n",
              "      <th>4</th>\n",
              "      <td>9.900000e+02</td>\n",
              "      <td>3.0</td>\n",
              "      <td>0.0</td>\n",
              "      <td>131.0</td>\n",
              "      <td>Seasonal &gt; Stock Up Essentials &gt; Personal Care...</td>\n",
              "      <td>Gillette</td>\n",
              "      <td>Gillette TRAC II Plus Razor Blade Refills, Fit...</td>\n",
              "      <td>https://i5.walmartimages.com/asr/1a2ebb06-cd01...</td>\n",
              "      <td>In 1971, Gillette introduced the Trac II razor...</td>\n",
              "      <td>Gillette TRAC II Plus Razor Blade Refills, Fit...</td>\n",
              "    </tr>\n",
              "    <tr>\n",
              "      <th>...</th>\n",
              "      <td>...</td>\n",
              "      <td>...</td>\n",
              "      <td>...</td>\n",
              "      <td>...</td>\n",
              "      <td>...</td>\n",
              "      <td>...</td>\n",
              "      <td>...</td>\n",
              "      <td>...</td>\n",
              "      <td>...</td>\n",
              "      <td>...</td>\n",
              "    </tr>\n",
              "    <tr>\n",
              "      <th>4995</th>\n",
              "      <td>2.771000e+03</td>\n",
              "      <td>208.0</td>\n",
              "      <td>4.5</td>\n",
              "      <td>2.0</td>\n",
              "      <td>Household Essentials &gt; Air Fresheners &gt; Spray ...</td>\n",
              "      <td>Eclectic Lady</td>\n",
              "      <td>Garden Mint Room Spray (Double Strength), 4 ou...</td>\n",
              "      <td>https://i5.walmartimages.com/asr/0e0416ae-6b70...</td>\n",
              "      <td>Garden Mint is a lovely blend of spearmint, le...</td>\n",
              "      <td>Garden Mint Room Spray (Double Strength), 4 ou...</td>\n",
              "    </tr>\n",
              "    <tr>\n",
              "      <th>4996</th>\n",
              "      <td>0.000000e+00</td>\n",
              "      <td>1.0</td>\n",
              "      <td>3.9</td>\n",
              "      <td>7484.0</td>\n",
              "      <td>Beauty &gt; Hair Care &gt; Hair Color &gt; Permanent Ha...</td>\n",
              "      <td>Garnier</td>\n",
              "      <td>Garnier Nutrisse Nourishing Hair Color Creme (...</td>\n",
              "      <td>https://i5.walmartimages.com/asr/24d7a837-51f8...</td>\n",
              "      <td>Garnier Nutrisse Nourishing Hair Color Creme B...</td>\n",
              "      <td>Garnier Nutrisse Nourishing Hair Color Creme (...</td>\n",
              "    </tr>\n",
              "    <tr>\n",
              "      <th>4997</th>\n",
              "      <td>3.400000e+01</td>\n",
              "      <td>96.0</td>\n",
              "      <td>0.0</td>\n",
              "      <td>4.0</td>\n",
              "      <td>Beauty &gt; Makeup &gt; Nails</td>\n",
              "      <td>Stoneway</td>\n",
              "      <td>Nail File Electric Drill, 6 in 1 Professional ...</td>\n",
              "      <td>https://i5.walmartimages.com/asr/d6202179-2c93...</td>\n",
              "      <td>Multifunctional : Our nail drill kit come with...</td>\n",
              "      <td>Nail File Electric Drill, 6 in 1 Professional ...</td>\n",
              "    </tr>\n",
              "    <tr>\n",
              "      <th>4998</th>\n",
              "      <td>9.000000e+00</td>\n",
              "      <td>7.0</td>\n",
              "      <td>0.0</td>\n",
              "      <td>0.0</td>\n",
              "      <td>Premium Beauty &gt; Premium Bath &amp; Body &gt; Premium...</td>\n",
              "      <td>Creed</td>\n",
              "      <td>Creed Love In Black Hair And Body Wash 6.8oz/2...</td>\n",
              "      <td>https://i5.walmartimages.com/asr/3dc99239-66d2...</td>\n",
              "      <td></td>\n",
              "      <td>Creed Love In Black Hair And Body Wash 6.8oz/2...</td>\n",
              "    </tr>\n",
              "    <tr>\n",
              "      <th>4999</th>\n",
              "      <td>0.000000e+00</td>\n",
              "      <td>1.0</td>\n",
              "      <td>0.0</td>\n",
              "      <td>438.0</td>\n",
              "      <td>Beauty &gt; Makeup &gt; Face Makeup &gt; Face Makeup Br...</td>\n",
              "      <td>COVERGIRL</td>\n",
              "      <td>Foundation</td>\n",
              "      <td>https://i5.walmartimages.com/asr/a76122fd-322a...</td>\n",
              "      <td>Mousse foundation that gives you a smooth clea...</td>\n",
              "      <td>Foundation, Wal-mart, Walmart.com</td>\n",
              "    </tr>\n",
              "  </tbody>\n",
              "</table>\n",
              "<p>5000 rows × 10 columns</p>\n",
              "</div>"
            ],
            "text/plain": [
              "                ID  ProdID  Rating  ReviewCount  \\\n",
              "0     1.705737e+09     2.0     0.0          0.0   \n",
              "1     9.500000e+01    76.0     0.0          0.0   \n",
              "2     8.000000e+00     8.0     4.5      29221.0   \n",
              "3     4.000000e+00     3.0     0.0          0.0   \n",
              "4     9.900000e+02     3.0     0.0        131.0   \n",
              "...            ...     ...     ...          ...   \n",
              "4995  2.771000e+03   208.0     4.5          2.0   \n",
              "4996  0.000000e+00     1.0     3.9       7484.0   \n",
              "4997  3.400000e+01    96.0     0.0          4.0   \n",
              "4998  9.000000e+00     7.0     0.0          0.0   \n",
              "4999  0.000000e+00     1.0     0.0        438.0   \n",
              "\n",
              "                                               Category            Brand  \\\n",
              "0     Premium Beauty > Premium Makeup > Premium Nail...              OPI   \n",
              "1     Beauty > Hair Care > Hair Color > Auburn Hair ...      Nice'n Easy   \n",
              "2     Beauty > Hair Care > Hair Color > Permanent Ha...          Clairol   \n",
              "3                                 Beauty > Makeup > Lip  Kokie Cosmetics   \n",
              "4     Seasonal > Stock Up Essentials > Personal Care...         Gillette   \n",
              "...                                                 ...              ...   \n",
              "4995  Household Essentials > Air Fresheners > Spray ...    Eclectic Lady   \n",
              "4996  Beauty > Hair Care > Hair Color > Permanent Ha...          Garnier   \n",
              "4997                            Beauty > Makeup > Nails         Stoneway   \n",
              "4998  Premium Beauty > Premium Bath & Body > Premium...            Creed   \n",
              "4999  Beauty > Makeup > Face Makeup > Face Makeup Br...        COVERGIRL   \n",
              "\n",
              "                                                   Name  \\\n",
              "0     OPI Infinite Shine, Nail Lacquer Nail Polish, ...   \n",
              "1     Nice n Easy Permanent Color, 111 Natural Mediu...   \n",
              "2     Clairol Nice N Easy Permanent Color 7/106A Nat...   \n",
              "3     Kokie Professional Matte Lipstick, Hot Berry, ...   \n",
              "4     Gillette TRAC II Plus Razor Blade Refills, Fit...   \n",
              "...                                                 ...   \n",
              "4995  Garden Mint Room Spray (Double Strength), 4 ou...   \n",
              "4996  Garnier Nutrisse Nourishing Hair Color Creme (...   \n",
              "4997  Nail File Electric Drill, 6 in 1 Professional ...   \n",
              "4998  Creed Love In Black Hair And Body Wash 6.8oz/2...   \n",
              "4999                                         Foundation   \n",
              "\n",
              "                                               ImageURL  \\\n",
              "0     https://i5.walmartimages.com/asr/0e1f4c51-c1a4...   \n",
              "1     https://i5.walmartimages.com/asr/9c8e42e4-13a5...   \n",
              "2     https://i5.walmartimages.com/asr/e3a601c2-6a2b...   \n",
              "3     https://i5.walmartimages.com/asr/25b4b467-bc61...   \n",
              "4     https://i5.walmartimages.com/asr/1a2ebb06-cd01...   \n",
              "...                                                 ...   \n",
              "4995  https://i5.walmartimages.com/asr/0e0416ae-6b70...   \n",
              "4996  https://i5.walmartimages.com/asr/24d7a837-51f8...   \n",
              "4997  https://i5.walmartimages.com/asr/d6202179-2c93...   \n",
              "4998  https://i5.walmartimages.com/asr/3dc99239-66d2...   \n",
              "4999  https://i5.walmartimages.com/asr/a76122fd-322a...   \n",
              "\n",
              "                                            Description  \\\n",
              "0                                                         \n",
              "1     Pack of 3 Pack of 3 for the UPC: 381519000201 ...   \n",
              "2     This Clairol Nice N Easy Permanent Color gives...   \n",
              "3     Calling all matte lip lovers! Indulge in our r...   \n",
              "4     In 1971, Gillette introduced the Trac II razor...   \n",
              "...                                                 ...   \n",
              "4995  Garden Mint is a lovely blend of spearmint, le...   \n",
              "4996  Garnier Nutrisse Nourishing Hair Color Creme B...   \n",
              "4997  Multifunctional : Our nail drill kit come with...   \n",
              "4998                                                      \n",
              "4999  Mousse foundation that gives you a smooth clea...   \n",
              "\n",
              "                                                   Tags  \n",
              "0     OPI Infinite Shine, Nail Lacquer Nail Polish, ...  \n",
              "1     Nice 'n Easy Permanent Color, 111 Natural Medi...  \n",
              "2     Clairol Nice 'N Easy Permanent Color 7/106A Na...  \n",
              "3     Kokie Professional Matte Lipstick, Hot Berry, ...  \n",
              "4     Gillette TRAC II Plus Razor Blade Refills, Fit...  \n",
              "...                                                 ...  \n",
              "4995  Garden Mint Room Spray (Double Strength), 4 ou...  \n",
              "4996  Garnier Nutrisse Nourishing Hair Color Creme (...  \n",
              "4997  Nail File Electric Drill, 6 in 1 Professional ...  \n",
              "4998  Creed Love In Black Hair And Body Wash 6.8oz/2...  \n",
              "4999                  Foundation, Wal-mart, Walmart.com  \n",
              "\n",
              "[5000 rows x 10 columns]"
            ]
          },
          "execution_count": 30,
          "metadata": {},
          "output_type": "execute_result"
        }
      ],
      "source": [
        "train_data"
      ]
    },
    {
      "cell_type": "code",
      "execution_count": 31,
      "metadata": {
        "id": "MyoHUPSVs-Mr"
      },
      "outputs": [
        {
          "ename": "NameError",
          "evalue": "name 'columns_to_extract_tags_from' is not defined",
          "output_type": "error",
          "traceback": [
            "\u001b[1;31m---------------------------------------------------------------------------\u001b[0m",
            "\u001b[1;31mNameError\u001b[0m                                 Traceback (most recent call last)",
            "\u001b[1;32m~\\AppData\\Local\\Temp\\ipykernel_19296\\3424815920.py\u001b[0m in \u001b[0;36m<module>\u001b[1;34m\u001b[0m\n\u001b[0;32m      1\u001b[0m \u001b[1;31m# Concatenate the cleaned tags from all relevant columns\u001b[0m\u001b[1;33m\u001b[0m\u001b[1;33m\u001b[0m\u001b[0m\n\u001b[1;32m----> 2\u001b[1;33m \u001b[0mtrain_data\u001b[0m\u001b[1;33m[\u001b[0m\u001b[1;34m'Tags'\u001b[0m\u001b[1;33m]\u001b[0m \u001b[1;33m=\u001b[0m \u001b[0mtrain_data\u001b[0m\u001b[1;33m[\u001b[0m\u001b[0mcolumns_to_extract_tags_from\u001b[0m\u001b[1;33m]\u001b[0m\u001b[1;33m.\u001b[0m\u001b[0mapply\u001b[0m\u001b[1;33m(\u001b[0m\u001b[1;32mlambda\u001b[0m \u001b[0mrow\u001b[0m\u001b[1;33m:\u001b[0m \u001b[1;34m', '\u001b[0m\u001b[1;33m.\u001b[0m\u001b[0mjoin\u001b[0m\u001b[1;33m(\u001b[0m\u001b[0mrow\u001b[0m\u001b[1;33m)\u001b[0m\u001b[1;33m,\u001b[0m\u001b[0maxis\u001b[0m\u001b[1;33m=\u001b[0m\u001b[1;36m1\u001b[0m\u001b[1;33m)\u001b[0m\u001b[1;33m\u001b[0m\u001b[1;33m\u001b[0m\u001b[0m\n\u001b[0m",
            "\u001b[1;31mNameError\u001b[0m: name 'columns_to_extract_tags_from' is not defined"
          ]
        }
      ],
      "source": [
        "# Concatenate the cleaned tags from all relevant columns\n",
        "train_data['Tags'] = train_data[columns_to_extract_tags_from].apply(lambda row: ', '.join(row),axis=1)"
      ]
    },
    {
      "cell_type": "code",
      "execution_count": null,
      "metadata": {
        "colab": {
          "base_uri": "https://localhost:8080/",
          "height": 1000
        },
        "id": "AQ4V9S7ytndG",
        "outputId": "7d18f635-aaf3-4f99-9c3e-b43d3661ad24"
      },
      "outputs": [],
      "source": [
        "train_data"
      ]
    },
    {
      "cell_type": "code",
      "execution_count": null,
      "metadata": {
        "colab": {
          "base_uri": "https://localhost:8080/",
          "height": 323
        },
        "id": "v1ghOfI_tthw",
        "outputId": "3548298c-28a2-4608-840e-95c7d84a4e69"
      },
      "outputs": [],
      "source": [
        "train_data.head(2)"
      ]
    },
    {
      "cell_type": "code",
      "execution_count": 33,
      "metadata": {
        "id": "ik2VLniJPS-x"
      },
      "outputs": [],
      "source": [
        "average_ratings=train_data.groupby(['Name','ReviewCount','Brand','ImageURL'])['Rating'].mean().reset_index()"
      ]
    },
    {
      "cell_type": "code",
      "execution_count": 34,
      "metadata": {
        "id": "VIHrhTOJPtEk"
      },
      "outputs": [],
      "source": [
        "top_rated_items = average_ratings.sort_values(by='Rating',ascending=False)"
      ]
    },
    {
      "cell_type": "code",
      "execution_count": 35,
      "metadata": {
        "id": "m5jNWTopRupB"
      },
      "outputs": [],
      "source": [
        "rating_base_recommendation= top_rated_items.head(10)"
      ]
    },
    {
      "cell_type": "code",
      "execution_count": null,
      "metadata": {
        "colab": {
          "base_uri": "https://localhost:8080/",
          "height": 956
        },
        "id": "-X8UL5jhSeOL",
        "outputId": "4453e9f1-3a70-461a-9f2f-1ecc63f7db71"
      },
      "outputs": [],
      "source": [
        "rating_base_recommendation"
      ]
    },
    {
      "cell_type": "code",
      "execution_count": null,
      "metadata": {
        "colab": {
          "base_uri": "https://localhost:8080/"
        },
        "id": "CTAN6UDNS2r4",
        "outputId": "3b36ed05-47aa-401c-c606-93c16f0ec265"
      },
      "outputs": [],
      "source": [
        "rating_base_recommendation['Rating']=rating_base_recommendation['Rating'].astype(int)\n",
        "rating_base_recommendation['ReviewCount']=rating_base_recommendation['ReviewCount'].astype(int)"
      ]
    },
    {
      "cell_type": "code",
      "execution_count": null,
      "metadata": {
        "colab": {
          "base_uri": "https://localhost:8080/",
          "height": 956
        },
        "id": "Tw6Y9gjyTogD",
        "outputId": "5447b7e3-3ad5-4b18-8e13-ded3d1445a4d"
      },
      "outputs": [],
      "source": [
        "rating_base_recommendation"
      ]
    },
    {
      "cell_type": "code",
      "execution_count": null,
      "metadata": {
        "colab": {
          "base_uri": "https://localhost:8080/",
          "height": 1000
        },
        "id": "Rd8k8-uqTuKt",
        "outputId": "ba12c7e8-9d54-4c4e-dd1b-e9e024ef8252"
      },
      "outputs": [],
      "source": [
        "print(\"Rating Base Recommendation System: (Trending Products)\")\n",
        "rating_base_recommendation[['Name','Rating','ReviewCount','Brand','ImageURL']] = rating_base_recommendation[['Name','Rating','ReviewCount','Brand','ImageURL']]\n",
        "rating_base_recommendation"
      ]
    },
    {
      "cell_type": "code",
      "execution_count": null,
      "metadata": {
        "colab": {
          "base_uri": "https://localhost:8080/",
          "height": 222
        },
        "id": "tV_j3EgiVHHV",
        "outputId": "4d6a4b5f-1ce1-4898-db3c-67dad5abfd31"
      },
      "outputs": [],
      "source": [
        "train_data.head(1)"
      ]
    },
    {
      "cell_type": "code",
      "execution_count": 41,
      "metadata": {
        "id": "IUj3rZ4IV9qm"
      },
      "outputs": [],
      "source": [
        "from sklearn.feature_extraction.text import TfidfVectorizer\n",
        "from sklearn.metrics.pairwise import cosine_similarity\n",
        "\n",
        "tfidf_vectorizer = TfidfVectorizer(stop_words='english')\n",
        "tfidf_matrix_content = tfidf_vectorizer.fit_transform(train_data['Tags'])\n",
        "cosine_similarities_content =cosine_similarity(tfidf_matrix_content,tfidf_matrix_content)"
      ]
    },
    {
      "cell_type": "code",
      "execution_count": null,
      "metadata": {
        "colab": {
          "base_uri": "https://localhost:8080/"
        },
        "id": "1RUOg3Gud35v",
        "outputId": "15b7cf9f-007e-4890-a0d4-18fa3e7db27f"
      },
      "outputs": [],
      "source": [
        "cosine_similarities_content"
      ]
    },
    {
      "cell_type": "code",
      "execution_count": null,
      "metadata": {
        "colab": {
          "base_uri": "https://localhost:8080/",
          "height": 458
        },
        "id": "U2iohNjOeCPO",
        "outputId": "7caf6912-3f91-4215-f5b5-ebbb26e173d5"
      },
      "outputs": [],
      "source": [
        "train_data['Tags']"
      ]
    },
    {
      "cell_type": "code",
      "execution_count": 44,
      "metadata": {
        "id": "3qotfHabfDu1"
      },
      "outputs": [],
      "source": [
        "item_name = 'OPI Infinite Shine, Nail Lacquer Nail Polish, Bubble Bath'\n",
        "item_index=train_data[train_data['Name']==item_name].index[0]"
      ]
    },
    {
      "cell_type": "code",
      "execution_count": null,
      "metadata": {
        "colab": {
          "base_uri": "https://localhost:8080/",
          "height": 458
        },
        "id": "hDYUv75KkIJs",
        "outputId": "a643c51d-3e62-4e37-e276-9d60222b5323"
      },
      "outputs": [],
      "source": [
        "train_data['Name']"
      ]
    },
    {
      "cell_type": "code",
      "execution_count": 46,
      "metadata": {
        "id": "OP1NERhGlaxV"
      },
      "outputs": [],
      "source": [
        "similar_items = list(enumerate(cosine_similarities_content[item_index]))"
      ]
    },
    {
      "cell_type": "code",
      "execution_count": 48,
      "metadata": {
        "id": "VjnRSxCanTXi"
      },
      "outputs": [],
      "source": [
        "similar_items =sorted(similar_items, key=lambda x:x[1], reverse=True)\n",
        "top_similar_items = similar_items[1:10]\n",
        "\n",
        "recommended_items_indics = [x[0] for x in top_similar_items]"
      ]
    },
    {
      "cell_type": "code",
      "execution_count": null,
      "metadata": {
        "colab": {
          "base_uri": "https://localhost:8080/",
          "height": 332
        },
        "id": "GiXSFhNJnoW3",
        "outputId": "5541e936-bfad-4226-c931-3a7ff32618b0"
      },
      "outputs": [],
      "source": [
        "train_data.iloc[recommended_items_indics][['Name','ReviewCount','Brand']]"
      ]
    },
    {
      "cell_type": "code",
      "execution_count": 50,
      "metadata": {
        "id": "dn9MR1htrH5m"
      },
      "outputs": [],
      "source": [
        "from sklearn.feature_extraction.text import TfidfVectorizer\n",
        "from sklearn.metrics.pairwise import cosine_similarity\n",
        "\n",
        "def content_based_recommendations(train_data, item_name, top_n=10):\n",
        "    # Check if the item name exists in the training data\n",
        "    if item_name not in train_data['Name'].values:\n",
        "        print(f\"Item '{item_name}' not found in the training data.\")\n",
        "        return pd.DataFrame()\n",
        "\n",
        "    # Create a TF-IDF vectorizer for item descriptions\n",
        "    tfidf_vectorizer = TfidfVectorizer(stop_words='english')\n",
        "\n",
        "    # Apply TF-IDF vectorization to item descriptions\n",
        "    tfidf_matrix_content = tfidf_vectorizer.fit_transform(train_data['Tags'])\n",
        "\n",
        "    # Calculate cosine similarity between items based on descriptions\n",
        "    cosine_similarities_content = cosine_similarity(tfidf_matrix_content, tfidf_matrix_content)\n",
        "\n",
        "    # Find the index of the item\n",
        "    item_index = train_data[train_data['Name'] == item_name].index[0]\n",
        "\n",
        "    # Get the cosine similarity scores for the item\n",
        "    similar_items = list(enumerate(cosine_similarities_content[item_index]))\n",
        "\n",
        "    # Sort similar items by similarity score in descending order\n",
        "    similar_items = sorted(similar_items, key=lambda x: x[1], reverse=True)\n",
        "\n",
        "    # Get the top N most similar items (excluding the item itself)\n",
        "    top_similar_items = similar_items[1:top_n+1]\n",
        "\n",
        "    # Get the indices of the top similar items\n",
        "    recommended_item_indices = [x[0] for x in top_similar_items]\n",
        "\n",
        "    # Get the details of the top similar items\n",
        "    recommended_items_details = train_data.iloc[recommended_item_indices][['Name', 'ReviewCount', 'Brand', 'ImageURL', 'Rating']]\n",
        "\n",
        "    return recommended_items_details"
      ]
    },
    {
      "cell_type": "code",
      "execution_count": null,
      "metadata": {
        "colab": {
          "base_uri": "https://localhost:8080/",
          "height": 945
        },
        "id": "Oas_DL1xsP-7",
        "outputId": "da9e9396-2b8f-407c-b7b8-5213dd3f0a5b"
      },
      "outputs": [],
      "source": [
        "# Example: Get content-based recommendations for a specific item\n",
        "item_name = 'OPI Infinite Shine, Nail Lacquer Nail Polish, Bubble Bath'\n",
        "content_based_rec = content_based_recommendations(train_data, item_name, top_n=8)\n",
        "\n",
        "content_based_rec"
      ]
    },
    {
      "cell_type": "code",
      "execution_count": null,
      "metadata": {
        "colab": {
          "base_uri": "https://localhost:8080/",
          "height": 1000
        },
        "id": "v41rzmLcsTpf",
        "outputId": "72f04b50-354b-4e3e-b0ce-f3b172633bb1"
      },
      "outputs": [],
      "source": [
        "train_data\n"
      ]
    },
    {
      "cell_type": "code",
      "execution_count": 54,
      "metadata": {
        "id": "fbMhxd14I-4l"
      },
      "outputs": [],
      "source": [
        "user_item_matrix=train_data.pivot_table(index='ID', columns='ProdID', values='Rating',aggfunc='mean').fillna(0).astype(int)"
      ]
    },
    {
      "cell_type": "code",
      "execution_count": 56,
      "metadata": {
        "id": "A0Vu6zJgKKxr"
      },
      "outputs": [],
      "source": [
        "user_similarity=cosine_similarity(user_item_matrix)"
      ]
    },
    {
      "cell_type": "code",
      "execution_count": 60,
      "metadata": {
        "id": "_7_Yh5P7Kv_x"
      },
      "outputs": [],
      "source": [
        "target_user_id=4\n",
        "target_user_index=user_item_matrix.index.get_loc(target_user_id)"
      ]
    },
    {
      "cell_type": "code",
      "execution_count": 63,
      "metadata": {
        "id": "x140nSjTMzyb"
      },
      "outputs": [],
      "source": [
        "user_similarities=user_similarity[target_user_index]\n",
        "similar_user_indices=user_similarities.argsort()[::-1][1:]"
      ]
    },
    {
      "cell_type": "code",
      "execution_count": 70,
      "metadata": {
        "id": "ruh9EYx5NRbn"
      },
      "outputs": [],
      "source": [
        "recommend_items =[]\n",
        "\n",
        "for user_index in similar_user_indices:\n",
        "  rated_by_similar_user = user_item_matrix.iloc[user_index]\n",
        "  not_rated_by_target_user =(rated_by_similar_user==0)&(user_item_matrix.iloc[target_user_index]==0)\n",
        "\n",
        "  recommend_items.extend(user_item_matrix.columns[not_rated_by_target_user][:10])\n",
        "\n",
        "recommended_items_details = train_data[train_data['ProdID'].isin(recommend_items)][['Name','ReviewCount','Brand','ImageURL','Rating']]"
      ]
    },
    {
      "cell_type": "code",
      "execution_count": null,
      "metadata": {
        "colab": {
          "base_uri": "https://localhost:8080/",
          "height": 1000
        },
        "id": "CLwxbZHNRRMY",
        "outputId": "c74a92d1-7e2e-40d3-af7b-244f4ecab033"
      },
      "outputs": [],
      "source": [
        "recommended_items_details"
      ]
    },
    {
      "cell_type": "code",
      "execution_count": null,
      "metadata": {
        "colab": {
          "base_uri": "https://localhost:8080/",
          "height": 608
        },
        "id": "q6LsxEC9VgWt",
        "outputId": "e5ea5945-b806-4f79-a391-89af55813e9c"
      },
      "outputs": [],
      "source": [
        "def collaborative_filtering_recommendations(train_data, target_user_id, top_n):\n",
        "    # Create the user-item matrix\n",
        "    user_item_matrix = train_data.pivot_table(index='ID', columns='ProdID', values='Rating', aggfunc='mean').fillna(0)\n",
        "\n",
        "    # Calculate the user similarity matrix using cosine similarity\n",
        "    user_similarity = cosine_similarity(user_item_matrix)\n",
        "\n",
        "    # Find the index of the target user in the matrix\n",
        "    target_user_index = user_item_matrix.index.get_loc(target_user_id)\n",
        "\n",
        "    # Get the similarity scores for the target user\n",
        "    user_similarities = user_similarity[target_user_index]\n",
        "\n",
        "    # Sort the users by similarity in descending order (excluding the target user)\n",
        "    similar_users_indices = user_similarities.argsort()[::-1][1:]\n",
        "\n",
        "    # Generate recommendations based on similar users\n",
        "    recommended_items = []\n",
        "\n",
        "    for user_index in similar_users_indices:\n",
        "        # Get items rated by the similar user but not by the target user\n",
        "        rated_by_similar_user = user_item_matrix.iloc[user_index]\n",
        "        not_rated_by_target_user = (rated_by_similar_user == 0) & (user_item_matrix.iloc[target_user_index] == 0)\n",
        "\n",
        "        # Extract the item IDs of recommended items\n",
        "        recommended_items.extend(user_item_matrix.columns[not_rated_by_target_user][:top_n])\n",
        "\n",
        "    # Get the details of recommended items\n",
        "    recommended_items_details = train_data[train_data['ProdID'].isin(recommended_items)][['Name', 'ReviewCount', 'Brand', 'ImageURL', 'Rating']]\n",
        "\n",
        "    return recommended_items_details.head(top_n)\n",
        "\n",
        "# Example usage\n",
        "target_user_id = 4\n",
        "top_n = 5\n",
        "collaborative_filtering_rec = collaborative_filtering_recommendations(train_data, target_user_id,top_n)\n",
        "print(f\"Top {top_n} recommendations for User {target_user_id}:\")\n",
        "collaborative_filtering_rec"
      ]
    },
    {
      "cell_type": "code",
      "execution_count": 76,
      "metadata": {
        "id": "N-DV46faWsS2"
      },
      "outputs": [],
      "source": [
        "# Hybrid Recommendations (Combine Content-Based and Collaborative Filtering)\n",
        "def hybrid_recommendations(train_data,target_user_id, item_name, top_n=10):\n",
        "    # Get content-based recommendations\n",
        "    content_based_rec = content_based_recommendations(train_data,item_name, top_n)\n",
        "\n",
        "    # Get collaborative filtering recommendations\n",
        "    collaborative_filtering_rec = collaborative_filtering_recommendations(train_data,target_user_id, top_n)\n",
        "\n",
        "    # Merge and deduplicate the recommendations\n",
        "    hybrid_rec = pd.concat([content_based_rec, collaborative_filtering_rec]).drop_duplicates()\n",
        "\n",
        "    return hybrid_rec.head(10)"
      ]
    },
    {
      "cell_type": "code",
      "execution_count": null,
      "metadata": {
        "colab": {
          "base_uri": "https://localhost:8080/",
          "height": 938
        },
        "id": "lhmixRBBc4-z",
        "outputId": "73dc9d6a-1f3f-42dd-d81b-de5015c11147"
      },
      "outputs": [],
      "source": [
        "# Example usage: Get hybrid recommendations for a specific user and item\n",
        "target_user_id = 4 # Change this to the user_id you want recommendations for\n",
        "item_name = \"OPI Nail Lacquer Polish .5oz/15mL - This Gown Needs A Crown NL U11\"  # Change this to the item name\n",
        "hybrid_rec = hybrid_recommendations(train_data,target_user_id, item_name, top_n=10)\n",
        "\n",
        "print(f\"Top 10 Hybrid Recommendations for User {target_user_id} and Item '{item_name}':\")\n",
        "hybrid_rec"
      ]
    },
    {
      "cell_type": "code",
      "execution_count": null,
      "metadata": {
        "id": "DVCPrBczdY4U"
      },
      "outputs": [],
      "source": []
    }
  ],
  "metadata": {
    "colab": {
      "provenance": []
    },
    "kernelspec": {
      "display_name": "Python 3",
      "name": "python3"
    },
    "language_info": {
      "codemirror_mode": {
        "name": "ipython",
        "version": 3
      },
      "file_extension": ".py",
      "mimetype": "text/x-python",
      "name": "python",
      "nbconvert_exporter": "python",
      "pygments_lexer": "ipython3",
      "version": "3.9.13"
    }
  },
  "nbformat": 4,
  "nbformat_minor": 0
}
